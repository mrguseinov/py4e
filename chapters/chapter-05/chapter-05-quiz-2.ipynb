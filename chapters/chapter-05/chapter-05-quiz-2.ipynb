{
 "cells": [
  {
   "cell_type": "markdown",
   "id": "flexible-wichita",
   "metadata": {},
   "source": [
    "**DO NOT EDIT THE CODE IN THIS FILE**"
   ]
  },
  {
   "cell_type": "code",
   "execution_count": null,
   "id": "coated-resolution",
   "metadata": {},
   "outputs": [],
   "source": [
    "%reset -f\n",
    "\n",
    "from sys import path\n",
    "path.append(\"../../\")\n",
    "\n",
    "from helpers.submitters import QuizSubmitter\n",
    "from helpers.widgets import MyRadioButtons\n",
    "\n",
    "questions = [MyRadioButtons(2) for _ in range(10)]\n",
    "questions[1] = MyRadioButtons(4)\n",
    "questions[2] = MyRadioButtons(4)\n",
    "questions[6] = MyRadioButtons(4)\n",
    "questions[9] = MyRadioButtons(4)\n",
    "\n",
    "submitter = QuizSubmitter(\"05.2\")"
   ]
  },
  {
   "cell_type": "markdown",
   "id": "systematic-circus",
   "metadata": {},
   "source": [
    "<hr>\n",
    "\n",
    "### Question 0\n",
    "\n",
    "Is the following loop infinite?\n",
    "\n",
    "```python\n",
    "i = 0\n",
    "while True:\n",
    "    if i > 5:\n",
    "        break\n",
    "    i += 1\n",
    "```\n",
    "\n",
    "1. Yes, it's infinite.\n",
    "2. No, it's finite."
   ]
  },
  {
   "cell_type": "code",
   "execution_count": null,
   "id": "regular-september",
   "metadata": {},
   "outputs": [],
   "source": [
    "questions[0].show()"
   ]
  },
  {
   "cell_type": "markdown",
   "id": "removable-glance",
   "metadata": {},
   "source": [
    "<hr>\n",
    "\n",
    "### Question 1\n",
    "\n",
    "What will the following code will print out?\n",
    "\n",
    "```python\n",
    "for i in range(9):\n",
    "    if i == 9:\n",
    "        print(i)\n",
    "```\n",
    "\n",
    "1. `9`\n",
    "2. Nothing.\n",
    "3. `i`\n",
    "4. It will result in an error."
   ]
  },
  {
   "cell_type": "code",
   "execution_count": null,
   "id": "environmental-smile",
   "metadata": {},
   "outputs": [],
   "source": [
    "questions[1].show()"
   ]
  },
  {
   "cell_type": "markdown",
   "id": "broken-tyler",
   "metadata": {},
   "source": [
    "<hr>\n",
    "\n",
    "### Question 2\n",
    "\n",
    "What will be the last value for `i`?\n",
    "\n",
    "```python\n",
    "for i in range(-5, 10):\n",
    "    if i > 5:\n",
    "        break\n",
    "```\n",
    "\n",
    "1. `10`\n",
    "2. `5`\n",
    "3. `6`\n",
    "4. `-5`"
   ]
  },
  {
   "cell_type": "code",
   "execution_count": null,
   "id": "comparative-collectible",
   "metadata": {},
   "outputs": [],
   "source": [
    "questions[2].show()"
   ]
  },
  {
   "cell_type": "markdown",
   "id": "referenced-exhaust",
   "metadata": {},
   "source": [
    "<hr>\n",
    "\n",
    "### Question 3\n",
    "\n",
    "Check the code for the following task:\n",
    "\n",
    "*Print numbers which are divisible by 5, between 1500 and 2700 (both included).*\n",
    "\n",
    "```python\n",
    "for number in range(1500, 2700):\n",
    "    if number % 5 == 0:\n",
    "        print(number)\n",
    "```\n",
    "\n",
    "1. Right.\n",
    "2. Wrong."
   ]
  },
  {
   "cell_type": "code",
   "execution_count": null,
   "id": "grand-spell",
   "metadata": {},
   "outputs": [],
   "source": [
    "questions[3].show()"
   ]
  },
  {
   "cell_type": "markdown",
   "id": "commercial-album",
   "metadata": {},
   "source": [
    "<hr>\n",
    "\n",
    "### Question 4\n",
    "\n",
    "Is the following loop infinite?\n",
    "\n",
    "```python\n",
    "a = 0\n",
    "b = 10\n",
    "while True:\n",
    "    if b < 10:\n",
    "        break\n",
    "    b += 1\n",
    "```\n",
    "\n",
    "1. Yes, it's infinite.\n",
    "2. No, it's finite."
   ]
  },
  {
   "cell_type": "code",
   "execution_count": null,
   "id": "eight-chemical",
   "metadata": {},
   "outputs": [],
   "source": [
    "questions[4].show()"
   ]
  },
  {
   "cell_type": "markdown",
   "id": "accepted-meditation",
   "metadata": {},
   "source": [
    "<hr>\n",
    "\n",
    "### Question 5\n",
    "\n",
    "Check the code for the following task:\n",
    "\n",
    "*Print all the numbers from 0 to 12 (both included) except 3 and 6.*\n",
    "\n",
    "```python\n",
    "for number in range(13):\n",
    "    if number in [3, 6]:\n",
    "        continue\n",
    "    print(number)\n",
    "```\n",
    "\n",
    "1. Right.\n",
    "2. Wrong."
   ]
  },
  {
   "cell_type": "code",
   "execution_count": null,
   "id": "substantial-edmonton",
   "metadata": {},
   "outputs": [],
   "source": [
    "questions[5].show()"
   ]
  },
  {
   "cell_type": "markdown",
   "id": "first-restaurant",
   "metadata": {},
   "source": [
    "<hr>\n",
    "\n",
    "### Question 6\n",
    "\n",
    "What will be the last value for `i`?\n",
    "\n",
    "```python\n",
    "for i in range(-5, 10):\n",
    "    if i > 5:\n",
    "        continue\n",
    "```\n",
    "\n",
    "1. `9`\n",
    "2. `5`\n",
    "3. `6`\n",
    "4. `10`"
   ]
  },
  {
   "cell_type": "code",
   "execution_count": null,
   "id": "conventional-fleet",
   "metadata": {},
   "outputs": [],
   "source": [
    "questions[6].show()"
   ]
  },
  {
   "cell_type": "markdown",
   "id": "alpine-chicken",
   "metadata": {},
   "source": [
    "<hr>\n",
    "\n",
    "### Question 7\n",
    "\n",
    "Check the code for the following task:\n",
    "\n",
    "*Print the cubes of all numbers from 1 to 9 (both included).*\n",
    "\n",
    "```python\n",
    "for i in range(1, 10):\n",
    "    print(i ** 3)\n",
    "```\n",
    "\n",
    "1. Right.\n",
    "2. Wrong."
   ]
  },
  {
   "cell_type": "code",
   "execution_count": null,
   "id": "tracked-racing",
   "metadata": {},
   "outputs": [],
   "source": [
    "questions[7].show()"
   ]
  },
  {
   "cell_type": "markdown",
   "id": "atlantic-travel",
   "metadata": {},
   "source": [
    "<hr>\n",
    "\n",
    "### Question 8\n",
    "\n",
    "Check the code for the following task:\n",
    "\n",
    "*Find the smallest number in the list of numbers.*\n",
    "\n",
    "```python\n",
    "numbers = [5, 1, 4, 9, 7, 0, 8, 4, 9]\n",
    "\n",
    "minimum = -1\n",
    "for number in numbers:\n",
    "    if number < minimum:\n",
    "        minimum = number\n",
    "\n",
    "print(minimum)\n",
    "```\n",
    "\n",
    "1. Right.\n",
    "2. Wrong."
   ]
  },
  {
   "cell_type": "code",
   "execution_count": null,
   "id": "accessible-union",
   "metadata": {},
   "outputs": [],
   "source": [
    "questions[8].show()"
   ]
  },
  {
   "cell_type": "markdown",
   "id": "lesser-count",
   "metadata": {},
   "source": [
    "<hr>\n",
    "\n",
    "### Question 9\n",
    "\n",
    "What will be the last value for `i`?\n",
    "\n",
    "```python\n",
    "def bar():\n",
    "    for i in range(-5, 10):\n",
    "        if i < 5:\n",
    "            return\n",
    "        \n",
    "bar()\n",
    "```\n",
    "\n",
    "1. `9`\n",
    "2. `5`\n",
    "3. `10`\n",
    "4. `-5`"
   ]
  },
  {
   "cell_type": "code",
   "execution_count": null,
   "id": "interesting-fiber",
   "metadata": {},
   "outputs": [],
   "source": [
    "questions[9].show()"
   ]
  },
  {
   "cell_type": "markdown",
   "id": "transparent-parcel",
   "metadata": {},
   "source": [
    "<hr>\n",
    "\n",
    "### Submit"
   ]
  },
  {
   "cell_type": "code",
   "execution_count": null,
   "id": "worthy-producer",
   "metadata": {},
   "outputs": [],
   "source": [
    "submitter.submit(questions)"
   ]
  },
  {
   "cell_type": "code",
   "execution_count": null,
   "id": "metropolitan-williams",
   "metadata": {},
   "outputs": [],
   "source": []
  }
 ],
 "metadata": {
  "kernelspec": {
   "display_name": "Python 3 (ipykernel)",
   "language": "python",
   "name": "python3"
  },
  "language_info": {
   "codemirror_mode": {
    "name": "ipython",
    "version": 3
   },
   "file_extension": ".py",
   "mimetype": "text/x-python",
   "name": "python",
   "nbconvert_exporter": "python",
   "pygments_lexer": "ipython3",
   "version": "3.11.3"
  }
 },
 "nbformat": 4,
 "nbformat_minor": 5
}
