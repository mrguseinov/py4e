{
 "cells": [
  {
   "cell_type": "markdown",
   "id": "pregnant-regard",
   "metadata": {},
   "source": [
    "**DO NOT EDIT THE CODE IN THIS FILE**"
   ]
  },
  {
   "cell_type": "code",
   "execution_count": null,
   "id": "incorporate-easter",
   "metadata": {},
   "outputs": [],
   "source": [
    "%reset -f\n",
    "\n",
    "from sys import path\n",
    "path.append(\"../../\")\n",
    "\n",
    "from helpers.submitters import QuizSubmitter\n",
    "from helpers.widgets import MyCheckBoxes, MyRadioButtons\n",
    "\n",
    "questions = [MyRadioButtons(2) for _ in range(10)]\n",
    "questions[2] = MyRadioButtons(3)\n",
    "questions[4] = MyRadioButtons(4)\n",
    "questions[6] = MyRadioButtons(4)\n",
    "questions[8] = MyCheckBoxes(4)\n",
    "questions[9] = MyRadioButtons(3)\n",
    "\n",
    "submitter = QuizSubmitter(\"10.2\")"
   ]
  },
  {
   "cell_type": "markdown",
   "id": "powered-homework",
   "metadata": {},
   "source": [
    "<hr>\n",
    "\n",
    "### Question 0\n",
    "\n",
    "Tuples are mutable — you can add, change, and remove items.\n",
    "\n",
    "1. True\n",
    "2. False"
   ]
  },
  {
   "cell_type": "code",
   "execution_count": null,
   "id": "interstate-death",
   "metadata": {},
   "outputs": [],
   "source": [
    "questions[0].show()"
   ]
  },
  {
   "cell_type": "markdown",
   "id": "mechanical-prerequisite",
   "metadata": {},
   "source": [
    "<hr>\n",
    "\n",
    "### Question 1\n",
    "\n",
    "Tuples are hashable. You can use them as dictionary keys.\n",
    "\n",
    "1. True\n",
    "2. False"
   ]
  },
  {
   "cell_type": "code",
   "execution_count": null,
   "id": "national-disclosure",
   "metadata": {},
   "outputs": [],
   "source": [
    "questions[1].show()"
   ]
  },
  {
   "cell_type": "markdown",
   "id": "aggressive-failing",
   "metadata": {},
   "source": [
    "<hr>\n",
    "\n",
    "### Question 2\n",
    "\n",
    "What will the following code do?\n",
    "\n",
    "```python\n",
    "data = (\"Hello\", \"world\")\n",
    "data[0][0] = \"J\"\n",
    "```\n",
    "\n",
    "1. It will create a new tuple.\n",
    "2. It will result in an error.\n",
    "3. It will modify the existing tuple."
   ]
  },
  {
   "cell_type": "code",
   "execution_count": null,
   "id": "innovative-planet",
   "metadata": {},
   "outputs": [],
   "source": [
    "questions[2].show()"
   ]
  },
  {
   "cell_type": "markdown",
   "id": "duplicate-benefit",
   "metadata": {},
   "source": [
    "<hr>\n",
    "\n",
    "### Question 3\n",
    "\n",
    "Tuples are ordered, meaning that the order in which you put the items is kept.\n",
    "\n",
    "1. True\n",
    "2. False"
   ]
  },
  {
   "cell_type": "code",
   "execution_count": null,
   "id": "subsequent-thompson",
   "metadata": {},
   "outputs": [],
   "source": [
    "questions[3].show()"
   ]
  },
  {
   "cell_type": "markdown",
   "id": "rural-merchant",
   "metadata": {},
   "source": [
    "<hr>\n",
    "\n",
    "### Question 4\n",
    "\n",
    "What will the following code do?\n",
    "\n",
    "```python\n",
    "x = 5\n",
    "y = -5\n",
    "x, y = (y, x)[::-1]\n",
    "```\n",
    "\n",
    "1. Swap the values of `x` and `y`.\n",
    "2. Set both `x` and `y` to `5`.\n",
    "3. Set both `x` and `y` to `-5`.\n",
    "4. Leave the values of `x` and `y` unchanged."
   ]
  },
  {
   "cell_type": "code",
   "execution_count": null,
   "id": "essential-softball",
   "metadata": {},
   "outputs": [],
   "source": [
    "questions[4].show()"
   ]
  },
  {
   "cell_type": "markdown",
   "id": "chronic-louisville",
   "metadata": {},
   "source": [
    "<hr>\n",
    "\n",
    "### Question 5\n",
    "\n",
    "Tuples are heterogeneous, meaning that they can store any data type.\n",
    "\n",
    "1. True\n",
    "2. False"
   ]
  },
  {
   "cell_type": "code",
   "execution_count": null,
   "id": "delayed-georgia",
   "metadata": {},
   "outputs": [],
   "source": [
    "questions[5].show()"
   ]
  },
  {
   "cell_type": "markdown",
   "id": "partial-darkness",
   "metadata": {},
   "source": [
    "<hr>\n",
    "\n",
    "### Question 6\n",
    "\n",
    "Choose the correct way to access value `20` from the following tuple:\n",
    "\n",
    "```python\n",
    "data = (\"Orange\", [10, 20, 30], (5, 15, 25))\n",
    "```\n",
    "\n",
    "1. `data[1]`\n",
    "2. `data[1][1]`\n",
    "3. `data[2][1]`\n",
    "4. `data[2][2]`"
   ]
  },
  {
   "cell_type": "code",
   "execution_count": null,
   "id": "nutritional-planning",
   "metadata": {},
   "outputs": [],
   "source": [
    "questions[6].show()"
   ]
  },
  {
   "cell_type": "markdown",
   "id": "solid-chorus",
   "metadata": {},
   "source": [
    "<hr>\n",
    "\n",
    "### Question 7\n",
    "\n",
    "A tuple can be created without using parentheses.\n",
    "\n",
    "1. True\n",
    "2. False"
   ]
  },
  {
   "cell_type": "code",
   "execution_count": null,
   "id": "sunset-geometry",
   "metadata": {},
   "outputs": [],
   "source": [
    "questions[7].show()"
   ]
  },
  {
   "cell_type": "markdown",
   "id": "married-county",
   "metadata": {},
   "source": [
    "<hr>\n",
    "\n",
    "### Question 8\n",
    "\n",
    "How to create a tuple with one element?\n",
    "\n",
    "1. `('a',)`\n",
    "2. `tuple(['a'])`\n",
    "3. `tuple('a')`\n",
    "4. `('a')`"
   ]
  },
  {
   "cell_type": "code",
   "execution_count": null,
   "id": "postal-presence",
   "metadata": {},
   "outputs": [],
   "source": [
    "questions[8].show()"
   ]
  },
  {
   "cell_type": "markdown",
   "id": "commercial-vermont",
   "metadata": {},
   "source": [
    "<hr>\n",
    "\n",
    "### Question 9\n",
    "\n",
    "What will the following code do?\n",
    "\n",
    "```python\n",
    "data = tuple(\"Hello\")\n",
    "data = (\"J\",) + data[1:]\n",
    "```\n",
    "\n",
    "1. It will create a new tuple.\n",
    "2. It will result in an error.\n",
    "3. It will modify the existing tuple."
   ]
  },
  {
   "cell_type": "code",
   "execution_count": null,
   "id": "pointed-communications",
   "metadata": {},
   "outputs": [],
   "source": [
    "questions[9].show()"
   ]
  },
  {
   "cell_type": "markdown",
   "id": "equal-possession",
   "metadata": {},
   "source": [
    "<hr>\n",
    "\n",
    "### Submit"
   ]
  },
  {
   "cell_type": "code",
   "execution_count": null,
   "id": "judicial-bacteria",
   "metadata": {},
   "outputs": [],
   "source": [
    "submitter.submit(questions)"
   ]
  },
  {
   "cell_type": "code",
   "execution_count": null,
   "id": "engaging-gregory",
   "metadata": {},
   "outputs": [],
   "source": []
  }
 ],
 "metadata": {
  "kernelspec": {
   "display_name": "Python 3",
   "language": "python",
   "name": "python3"
  },
  "language_info": {
   "codemirror_mode": {
    "name": "ipython",
    "version": 3
   },
   "file_extension": ".py",
   "mimetype": "text/x-python",
   "name": "python",
   "nbconvert_exporter": "python",
   "pygments_lexer": "ipython3",
   "version": "3.8.10"
  }
 },
 "nbformat": 4,
 "nbformat_minor": 5
}
