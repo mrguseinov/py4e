{
 "cells": [
  {
   "cell_type": "markdown",
   "id": "industrial-public",
   "metadata": {},
   "source": [
    "**DO NOT EDIT THE CODE IN THIS FILE**"
   ]
  },
  {
   "cell_type": "code",
   "execution_count": null,
   "id": "rapid-bubble",
   "metadata": {},
   "outputs": [],
   "source": [
    "%reset -f\n",
    "\n",
    "from sys import path\n",
    "path.append(\"../../\")\n",
    "\n",
    "from helpers.submitters import QuizSubmitter\n",
    "from helpers.widgets import MyCheckBoxes, MyRadioButtons\n",
    "\n",
    "questions = [MyRadioButtons(2) for _ in range(10)]\n",
    "questions[4] = MyCheckBoxes(6)\n",
    "questions[9] = MyCheckBoxes(4)\n",
    "\n",
    "submitter = QuizSubmitter(\"11.2\")"
   ]
  },
  {
   "cell_type": "markdown",
   "id": "6446eabb-c12c-4aec-b0c8-a654d052e580",
   "metadata": {},
   "source": [
    "<hr>\n",
    "\n",
    "### Question 0\n",
    "\n",
    "*Note: `[abc]` matches either an `a`, `b` or `c` character.*\n",
    "\n",
    "What will the following code print out?\n",
    "\n",
    "```python\n",
    "pattern = r\"[abc]+\"\n",
    "text = \"a bb ccc\"\n",
    "print(re.findall(pattern, text) == [\"a\", \"bb\", \"ccc\"])\n",
    "```\n",
    "\n",
    "1. `True`\n",
    "2. `False`"
   ]
  },
  {
   "cell_type": "code",
   "execution_count": null,
   "id": "italian-conversation",
   "metadata": {},
   "outputs": [],
   "source": [
    "questions[0].show()"
   ]
  },
  {
   "cell_type": "markdown",
   "id": "e01c80d3-c955-43da-bb6f-d100e404d3c8",
   "metadata": {},
   "source": [
    "<hr>\n",
    "\n",
    "### Question 1\n",
    "\n",
    "*Note: `[^abc]` matches any character except for an `a`, `b` or `c`.*\n",
    "\n",
    "What will the following code print out?\n",
    "\n",
    "```python\n",
    "pattern = r\"[^abc]+\"\n",
    "text = \"Anything but abc.\"\n",
    "print(re.findall(pattern, text) == [\"Anything \", \"ut \", \".\"])\n",
    "```\n",
    "\n",
    "1. `True`\n",
    "2. `False`"
   ]
  },
  {
   "cell_type": "code",
   "execution_count": null,
   "id": "negative-acrobat",
   "metadata": {},
   "outputs": [],
   "source": [
    "questions[1].show()"
   ]
  },
  {
   "cell_type": "markdown",
   "id": "c8b53647-2710-40a5-b855-0352c13d5ee6",
   "metadata": {},
   "source": [
    "<hr>\n",
    "\n",
    "### Question 2\n",
    "\n",
    "*Note: `[a-zA-Z]` matches any characters between `a-z` or `A-Z`.*\n",
    "\n",
    "What will the following code print out?\n",
    "\n",
    "```python\n",
    "pattern = r\"[a-zA-Z]+\"\n",
    "text = \"abc123DEF\"\n",
    "print(re.findall(pattern, text) == [\"abc\", \"DEF\"])\n",
    "```\n",
    "\n",
    "1. `True`\n",
    "2. `False`"
   ]
  },
  {
   "cell_type": "code",
   "execution_count": null,
   "id": "moving-treasurer",
   "metadata": {},
   "outputs": [],
   "source": [
    "questions[2].show()"
   ]
  },
  {
   "cell_type": "markdown",
   "id": "47fa69a4-1211-4f8d-8d51-80f065bc3e4c",
   "metadata": {},
   "source": [
    "<hr>\n",
    "\n",
    "### Question 3\n",
    "\n",
    "*Note: `.` matches any character except for line terminators.*\n",
    "\n",
    "What will the following code print out?\n",
    "\n",
    "```python\n",
    "pattern = r\".+\"\n",
    "text = \"a b c\"\n",
    "print(re.findall(pattern, text) == [\"a b c\"])\n",
    "```\n",
    "\n",
    "1. `True`\n",
    "2. `False`"
   ]
  },
  {
   "cell_type": "code",
   "execution_count": null,
   "id": "congressional-chancellor",
   "metadata": {},
   "outputs": [],
   "source": [
    "questions[3].show()"
   ]
  },
  {
   "cell_type": "markdown",
   "id": "7feaecfe-85d1-4e1c-b2a7-7192e3578a9a",
   "metadata": {},
   "source": [
    "<hr>\n",
    "\n",
    "### Question 4\n",
    "\n",
    "Check all that apply.\n",
    "\n",
    "1. `\\s` matches any space, tab or newline character.<br>\n",
    "2. `\\S` matches anything other than a space, tab or newline.<br>\n",
    "3. `\\d` matches any decimal digit.<br>\n",
    "4. `\\D` matches anything other than a decimal digit.<br>\n",
    "5. `\\w` matches any letter, digit or underscore.<br>\n",
    "6. `\\W` matches anything other than a letter, digit or underscore."
   ]
  },
  {
   "cell_type": "code",
   "execution_count": null,
   "id": "atomic-baseline",
   "metadata": {},
   "outputs": [],
   "source": [
    "questions[4].show()"
   ]
  },
  {
   "cell_type": "markdown",
   "id": "f50567c9-98c5-4546-97a1-3611b9ae90f4",
   "metadata": {},
   "source": [
    "<hr>\n",
    "\n",
    "### Question 5\n",
    "\n",
    "*Note: `a|b` matches either what is before the `|` or what is after it — in this case `a` or `b`.*\n",
    "\n",
    "What will the following code print out?\n",
    "\n",
    "```python\n",
    "pattern = r\"a|b\"\n",
    "text = \"a or b, pick one!\"\n",
    "print(re.findall(pattern, text) == [\"a\", \"b\"])\n",
    "```\n",
    "\n",
    "1. `True`\n",
    "2. `False`"
   ]
  },
  {
   "cell_type": "code",
   "execution_count": null,
   "id": "characteristic-lambda",
   "metadata": {},
   "outputs": [],
   "source": [
    "questions[5].show()"
   ]
  },
  {
   "cell_type": "markdown",
   "id": "f5c439b4-e5e6-4658-9ad4-50288f811f41",
   "metadata": {},
   "source": [
    "<hr>\n",
    "\n",
    "### Question 6\n",
    "\n",
    "*Note: `a?` matches an `a` character or nothing.*\n",
    "\n",
    "What will the following code print out?\n",
    "\n",
    "```python\n",
    "pattern = r\"ba?\"\n",
    "text = \"ba b a\"\n",
    "print(re.findall(pattern, text) == [\"ba\", \"b\"])\n",
    "```\n",
    "\n",
    "1. `True`\n",
    "2. `False`"
   ]
  },
  {
   "cell_type": "code",
   "execution_count": null,
   "id": "injured-premises",
   "metadata": {},
   "outputs": [],
   "source": [
    "questions[6].show()"
   ]
  },
  {
   "cell_type": "markdown",
   "id": "8c5453d4-25a2-45d2-b8f8-34886a3cf49b",
   "metadata": {},
   "source": [
    "<hr>\n",
    "\n",
    "### Question 7\n",
    "\n",
    "*Note: `a*` matches zero or more consecutive `a` characters.*\n",
    "\n",
    "What will the following code print out?\n",
    "\n",
    "```python\n",
    "pattern = r\"ba*\"\n",
    "text = \"a ba baa aaa ba b\"\n",
    "print(re.findall(pattern, text) == [\"ba\", \"baa\", \"ba\", \"b\"])\n",
    "```\n",
    "\n",
    "1. `True`\n",
    "2. `False`"
   ]
  },
  {
   "cell_type": "code",
   "execution_count": null,
   "id": "protected-philosophy",
   "metadata": {},
   "outputs": [],
   "source": [
    "questions[7].show()"
   ]
  },
  {
   "cell_type": "markdown",
   "id": "01533287-d3c6-486a-87bc-9e7ee69d4e7a",
   "metadata": {},
   "source": [
    "<hr>\n",
    "\n",
    "### Question 8\n",
    "\n",
    "*Note: `a+` matches one or more consecutive `a` characters.*\n",
    "\n",
    "What will the following code print out?\n",
    "\n",
    "```python\n",
    "pattern = r\"a+\"\n",
    "text = \"a aa aaa bab baab\"\n",
    "print(re.findall(pattern, text) == [\"a\", \"aa\", \"aaa\", \"a\", \"aa\"])\n",
    "```\n",
    "\n",
    "1. `True`\n",
    "2. `False`"
   ]
  },
  {
   "cell_type": "code",
   "execution_count": null,
   "id": "married-fields",
   "metadata": {},
   "outputs": [],
   "source": [
    "questions[8].show()"
   ]
  },
  {
   "cell_type": "markdown",
   "id": "a7f7e5db-eec3-4fda-bef2-6857b3ec47fd",
   "metadata": {},
   "source": [
    "<hr>\n",
    "\n",
    "### Question 9\n",
    "\n",
    "Check all that apply.\n",
    "\n",
    "1. `a{3}` matches exactly 3 consecutive `a` characters.<br>\n",
    "2. `a{3,}` matches at least 3 consecutive `a` characters.<br>\n",
    "3. `a{,6}` matches no more than 6 consecutive `a` characters.<br>\n",
    "4. `a{3,6}` matches between 3 and 6 (inclusive) consecutive `a` characters."
   ]
  },
  {
   "cell_type": "code",
   "execution_count": null,
   "id": "central-crisis",
   "metadata": {},
   "outputs": [],
   "source": [
    "questions[9].show()"
   ]
  },
  {
   "cell_type": "markdown",
   "id": "intellectual-validity",
   "metadata": {},
   "source": [
    "<hr>\n",
    "\n",
    "### Submit"
   ]
  },
  {
   "cell_type": "code",
   "execution_count": null,
   "id": "revised-relevance",
   "metadata": {},
   "outputs": [],
   "source": [
    "submitter.submit(questions)"
   ]
  },
  {
   "cell_type": "code",
   "execution_count": null,
   "id": "first-roulette",
   "metadata": {},
   "outputs": [],
   "source": []
  }
 ],
 "metadata": {
  "kernelspec": {
   "display_name": "Python 3 (ipykernel)",
   "language": "python",
   "name": "python3"
  },
  "language_info": {
   "codemirror_mode": {
    "name": "ipython",
    "version": 3
   },
   "file_extension": ".py",
   "mimetype": "text/x-python",
   "name": "python",
   "nbconvert_exporter": "python",
   "pygments_lexer": "ipython3",
   "version": "3.11.3"
  }
 },
 "nbformat": 4,
 "nbformat_minor": 5
}
