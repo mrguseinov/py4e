{
 "cells": [
  {
   "cell_type": "markdown",
   "id": "industrial-public",
   "metadata": {},
   "source": [
    "**DO NOT EDIT THE CODE IN THIS FILE**"
   ]
  },
  {
   "cell_type": "code",
   "execution_count": null,
   "id": "rapid-bubble",
   "metadata": {},
   "outputs": [],
   "source": [
    "%reset -f\n",
    "\n",
    "from sys import path\n",
    "path.append(\"../../\")\n",
    "\n",
    "from helpers.submitters import QuizSubmitter\n",
    "from helpers.widgets import MyRadioButtons\n",
    "\n",
    "questions = [MyRadioButtons(3) for _ in range(10)]\n",
    "\n",
    "submitter = QuizSubmitter(\"06.3\")"
   ]
  },
  {
   "cell_type": "markdown",
   "id": "funny-variety",
   "metadata": {},
   "source": [
    "<hr>\n",
    "\n",
    "### Question 0\n",
    "\n",
    "What will the following code print out?\n",
    "\n",
    "```python\n",
    "line = \"save your tears\"\n",
    "print(line.split() == [\"save\", \"your\", \"tears\"])\n",
    "```\n",
    "\n",
    "1. `True`\n",
    "2. `False`\n",
    "3. It will result in an error."
   ]
  },
  {
   "cell_type": "code",
   "execution_count": null,
   "id": "italian-conversation",
   "metadata": {},
   "outputs": [],
   "source": [
    "questions[0].show()"
   ]
  },
  {
   "cell_type": "markdown",
   "id": "compact-halloween",
   "metadata": {},
   "source": [
    "<hr>\n",
    "\n",
    "### Question 1\n",
    "\n",
    "What will the following code print out?\n",
    "\n",
    "```python\n",
    "dna = \"ATTGC\"\n",
    "table = str.maketrans(\"ACGT\", \"TGCA\")\n",
    "print(dna.translate(table) == \"TAACG\")\n",
    "```\n",
    "\n",
    "1. `True`\n",
    "2. `False`\n",
    "3. It will result in an error."
   ]
  },
  {
   "cell_type": "code",
   "execution_count": null,
   "id": "negative-acrobat",
   "metadata": {},
   "outputs": [],
   "source": [
    "questions[1].show()"
   ]
  },
  {
   "cell_type": "markdown",
   "id": "graphic-crowd",
   "metadata": {},
   "source": [
    "<hr>\n",
    "\n",
    "### Question 2\n",
    "\n",
    "What will the following code print out?\n",
    "\n",
    "```python\n",
    "line = \"till I can get my satisfaction\"\n",
    "print(line.find(\"get\") == 12)\n",
    "```\n",
    "\n",
    "1. `True`\n",
    "2. `False`\n",
    "3. It will result in an error."
   ]
  },
  {
   "cell_type": "code",
   "execution_count": null,
   "id": "moving-treasurer",
   "metadata": {},
   "outputs": [],
   "source": [
    "questions[2].show()"
   ]
  },
  {
   "cell_type": "markdown",
   "id": "senior-silicon",
   "metadata": {},
   "source": [
    "<hr>\n",
    "\n",
    "### Question 3\n",
    "\n",
    "What will the following code print out?\n",
    "\n",
    "```python\n",
    "words = [\"I\", \"got\", \"no\", \"excuses\"]\n",
    "print(words.join(\"\") == \"I got no excuses\")\n",
    "```\n",
    "\n",
    "1. `True`\n",
    "2. `False`\n",
    "3. It will result in an error."
   ]
  },
  {
   "cell_type": "code",
   "execution_count": null,
   "id": "congressional-chancellor",
   "metadata": {},
   "outputs": [],
   "source": [
    "questions[3].show()"
   ]
  },
  {
   "cell_type": "markdown",
   "id": "going-freeze",
   "metadata": {},
   "source": [
    "<hr>\n",
    "\n",
    "### Question 4\n",
    "\n",
    "What will the following code print out?\n",
    "\n",
    "```python\n",
    "import math\n",
    "\n",
    "print(f\"{math.pi:.2f}\" == \"3.14\")\n",
    "```\n",
    "\n",
    "1. `True`\n",
    "2. `False`\n",
    "3. It will result in an error."
   ]
  },
  {
   "cell_type": "code",
   "execution_count": null,
   "id": "atomic-baseline",
   "metadata": {},
   "outputs": [],
   "source": [
    "questions[4].show()"
   ]
  },
  {
   "cell_type": "markdown",
   "id": "expensive-bride",
   "metadata": {},
   "source": [
    "<hr>\n",
    "\n",
    "### Question 5\n",
    "\n",
    "What will the following code print out?\n",
    "\n",
    "```python\n",
    "from string import capwords\n",
    "\n",
    "line = \"don't you know that you're toxic\"\n",
    "print(line.capwords() == \"Don't You Know That You're Toxic\")\n",
    "```\n",
    "\n",
    "1. `True`\n",
    "2. `False`\n",
    "3. It will result in an error."
   ]
  },
  {
   "cell_type": "code",
   "execution_count": null,
   "id": "characteristic-lambda",
   "metadata": {},
   "outputs": [],
   "source": [
    "questions[5].show()"
   ]
  },
  {
   "cell_type": "markdown",
   "id": "controlling-cigarette",
   "metadata": {},
   "source": [
    "<hr>\n",
    "\n",
    "### Question 6\n",
    "\n",
    "What will the following code print out?\n",
    "\n",
    "```python\n",
    "line = \"what are you waiting for\"\n",
    "print(line.replace(\"what\", \"who\") == \"who are you waiting for\")\n",
    "```\n",
    "\n",
    "1. `True`\n",
    "2. `False`\n",
    "3. It will result in an error."
   ]
  },
  {
   "cell_type": "code",
   "execution_count": null,
   "id": "injured-premises",
   "metadata": {},
   "outputs": [],
   "source": [
    "questions[6].show()"
   ]
  },
  {
   "cell_type": "markdown",
   "id": "pharmaceutical-slovenia",
   "metadata": {},
   "source": [
    "<hr>\n",
    "\n",
    "### Question 7\n",
    "\n",
    "What will the following code print out?\n",
    "\n",
    "```python\n",
    "line = \"half of my heart is in Havana\"\n",
    "print(line.startswith(\"Half\") == False)\n",
    "```\n",
    "\n",
    "1. `True`\n",
    "2. `False`\n",
    "3. It will result in an error."
   ]
  },
  {
   "cell_type": "code",
   "execution_count": null,
   "id": "protected-philosophy",
   "metadata": {},
   "outputs": [],
   "source": [
    "questions[7].show()"
   ]
  },
  {
   "cell_type": "markdown",
   "id": "proud-creature",
   "metadata": {},
   "source": [
    "<hr>\n",
    "\n",
    "### Question 8\n",
    "\n",
    "What will the following code print out?\n",
    "\n",
    "```python\n",
    "print(isalpha(\"The Weeknd\") == True)\n",
    "```\n",
    "\n",
    "1. `True`\n",
    "2. `False`\n",
    "3. It will result in an error."
   ]
  },
  {
   "cell_type": "code",
   "execution_count": null,
   "id": "married-fields",
   "metadata": {},
   "outputs": [],
   "source": [
    "questions[8].show()"
   ]
  },
  {
   "cell_type": "markdown",
   "id": "unable-mediterranean",
   "metadata": {},
   "source": [
    "<hr>\n",
    "\n",
    "### Question 9\n",
    "\n",
    "What will the following code print out?\n",
    "\n",
    "```python\n",
    "line = \"I'm with the gang, gang, gang and we 'bout to go up\"\n",
    "print(\"gang\".count(line) == 3)\n",
    "```\n",
    "\n",
    "1. `True`\n",
    "2. `False`\n",
    "3. It will result in an error."
   ]
  },
  {
   "cell_type": "code",
   "execution_count": null,
   "id": "central-crisis",
   "metadata": {},
   "outputs": [],
   "source": [
    "questions[9].show()"
   ]
  },
  {
   "cell_type": "markdown",
   "id": "intellectual-validity",
   "metadata": {},
   "source": [
    "<hr>\n",
    "\n",
    "### Submit"
   ]
  },
  {
   "cell_type": "code",
   "execution_count": null,
   "id": "revised-relevance",
   "metadata": {},
   "outputs": [],
   "source": [
    "submitter.submit(questions)"
   ]
  },
  {
   "cell_type": "code",
   "execution_count": null,
   "id": "first-roulette",
   "metadata": {},
   "outputs": [],
   "source": []
  }
 ],
 "metadata": {
  "kernelspec": {
   "display_name": "Python 3",
   "language": "python",
   "name": "python3"
  },
  "language_info": {
   "codemirror_mode": {
    "name": "ipython",
    "version": 3
   },
   "file_extension": ".py",
   "mimetype": "text/x-python",
   "name": "python",
   "nbconvert_exporter": "python",
   "pygments_lexer": "ipython3",
   "version": "3.8.10"
  }
 },
 "nbformat": 4,
 "nbformat_minor": 5
}
