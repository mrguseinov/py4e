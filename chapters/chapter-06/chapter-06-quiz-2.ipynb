{
 "cells": [
  {
   "cell_type": "markdown",
   "id": "industrial-public",
   "metadata": {},
   "source": [
    "**DO NOT EDIT THE CODE IN THIS FILE**"
   ]
  },
  {
   "cell_type": "code",
   "execution_count": null,
   "id": "rapid-bubble",
   "metadata": {},
   "outputs": [],
   "source": [
    "%reset -f\n",
    "\n",
    "from sys import path\n",
    "path.append(\"../../\")\n",
    "\n",
    "from helpers.submitters import QuizSubmitter\n",
    "from helpers.widgets import MyCheckBoxes, MyRadioButtons\n",
    "\n",
    "questions = [\n",
    "    MyCheckBoxes(5),\n",
    "    MyRadioButtons(4),\n",
    "    MyRadioButtons(3),\n",
    "    MyRadioButtons(4),\n",
    "    MyRadioButtons(3),\n",
    "    MyCheckBoxes(3),\n",
    "    MyRadioButtons(3),\n",
    "    MyRadioButtons(4),\n",
    "    MyRadioButtons(2),\n",
    "    MyRadioButtons(4),\n",
    "]\n",
    "\n",
    "submitter = QuizSubmitter(\"06.2\")"
   ]
  },
  {
   "cell_type": "markdown",
   "id": "funny-variety",
   "metadata": {},
   "source": [
    "<hr>\n",
    "\n",
    "### Question 0\n",
    "\n",
    "Check all that apply.\n",
    "\n",
    "1. A string is an ordered sequence of characters.\n",
    "2. You cannot access the characters one at a time with the bracket operator.\n",
    "3. A string is not a sequence.\n",
    "4. You can access the characters one at a time with the bracket operator.\n",
    "5. A string is an unordered sequence of characters."
   ]
  },
  {
   "cell_type": "code",
   "execution_count": null,
   "id": "italian-conversation",
   "metadata": {},
   "outputs": [],
   "source": [
    "questions[0].show()"
   ]
  },
  {
   "cell_type": "markdown",
   "id": "compact-halloween",
   "metadata": {},
   "source": [
    "<hr>\n",
    "\n",
    "### Question 1\n",
    "\n",
    "What can the user do to get an error?\n",
    "\n",
    "```python\n",
    "(1)  while True:\n",
    "(2)      line = input(\"> \")\n",
    "(3)      if line[0] == \"#\":\n",
    "(4)          continue\n",
    "(5)      if line == \"quit()\":\n",
    "(6)          break\n",
    "(7)      print(line)\n",
    "```\n",
    "\n",
    "1. An empty input will cause an error on the line `2`.\n",
    "2. Nothing.\n",
    "3. An empty input will cause an error on the line `3`.\n",
    "4. If the user enters a space, it will cause an error on the line `3`."
   ]
  },
  {
   "cell_type": "code",
   "execution_count": null,
   "id": "negative-acrobat",
   "metadata": {},
   "outputs": [],
   "source": [
    "questions[1].show()"
   ]
  },
  {
   "cell_type": "markdown",
   "id": "graphic-crowd",
   "metadata": {},
   "source": [
    "<hr>\n",
    "\n",
    "### Question 2\n",
    "\n",
    "What will the following code do?\n",
    "\n",
    "```python\n",
    "greeting = \"Hello, world!\"\n",
    "greeting = \"J\" + greeting[1:]\n",
    "```\n",
    "\n",
    "1. It will create a new string.\n",
    "2. It will result in an error.\n",
    "3. It will modify the existing string."
   ]
  },
  {
   "cell_type": "code",
   "execution_count": null,
   "id": "moving-treasurer",
   "metadata": {},
   "outputs": [],
   "source": [
    "questions[2].show()"
   ]
  },
  {
   "cell_type": "markdown",
   "id": "senior-silicon",
   "metadata": {},
   "source": [
    "<hr>\n",
    "\n",
    "### Question 3\n",
    "\n",
    "What data type(s) can be used to index strings?\n",
    "\n",
    "1. Strings do not support indexing.\n",
    "2. Integers.\n",
    "3. Integers and floats.\n",
    "4. Floats."
   ]
  },
  {
   "cell_type": "code",
   "execution_count": null,
   "id": "congressional-chancellor",
   "metadata": {},
   "outputs": [],
   "source": [
    "questions[3].show()"
   ]
  },
  {
   "cell_type": "markdown",
   "id": "going-freeze",
   "metadata": {},
   "source": [
    "<hr>\n",
    "\n",
    "### Question 4\n",
    "\n",
    "What will the following code do?\n",
    "\n",
    "```python\n",
    "fruit = \"apple\"\n",
    "print(fruit[len(fruit)])\n",
    "```\n",
    "\n",
    "1. It will print the letter `e`.\n",
    "2. It will print the length of the `fruit`.\n",
    "3. It will result in an error."
   ]
  },
  {
   "cell_type": "code",
   "execution_count": null,
   "id": "atomic-baseline",
   "metadata": {},
   "outputs": [],
   "source": [
    "questions[4].show()"
   ]
  },
  {
   "cell_type": "markdown",
   "id": "expensive-bride",
   "metadata": {},
   "source": [
    "<hr>\n",
    "\n",
    "### Question 5\n",
    "\n",
    "How to count the number of letters `a` in the word `mandarin`?\n",
    "\n",
    "1. `sum(char == \"a\" for char in \"mandarin\")`\n",
    "2. `\"mandarin\".count(\"a\")`\n",
    "3. `len([1 for char in \"mandarin\" if char == \"a\"])`"
   ]
  },
  {
   "cell_type": "code",
   "execution_count": null,
   "id": "characteristic-lambda",
   "metadata": {},
   "outputs": [],
   "source": [
    "questions[5].show()"
   ]
  },
  {
   "cell_type": "markdown",
   "id": "controlling-cigarette",
   "metadata": {},
   "source": [
    "<hr>\n",
    "\n",
    "### Question 6\n",
    "\n",
    "```python\n",
    "greeting = \"Hello, world!\"\n",
    "greeting[0] = \"J\"\n",
    "```\n",
    "\n",
    "1. It will create a new string.\n",
    "2. It will result in an error.\n",
    "3. It will modify the existing string."
   ]
  },
  {
   "cell_type": "code",
   "execution_count": null,
   "id": "injured-premises",
   "metadata": {},
   "outputs": [],
   "source": [
    "questions[6].show()"
   ]
  },
  {
   "cell_type": "markdown",
   "id": "pharmaceutical-slovenia",
   "metadata": {},
   "source": [
    "<hr>\n",
    "\n",
    "### Question 7\n",
    "\n",
    "What will the following code print out?\n",
    "\n",
    "```python\n",
    "title = \"candy shop\"\n",
    "print(\"candy\" in title)\n",
    "```\n",
    "\n",
    "1. `True`\n",
    "2. `False`\n",
    "3. It will result in an error.\n",
    "4. `\"candy\" in title`"
   ]
  },
  {
   "cell_type": "code",
   "execution_count": null,
   "id": "protected-philosophy",
   "metadata": {},
   "outputs": [],
   "source": [
    "questions[7].show()"
   ]
  },
  {
   "cell_type": "markdown",
   "id": "proud-creature",
   "metadata": {},
   "source": [
    "<hr>\n",
    "\n",
    "### Question 8\n",
    "\n",
    "You can use `len` to return the number of characters in a string.\n",
    "\n",
    "1. True\n",
    "2. False"
   ]
  },
  {
   "cell_type": "code",
   "execution_count": null,
   "id": "married-fields",
   "metadata": {},
   "outputs": [],
   "source": [
    "questions[8].show()"
   ]
  },
  {
   "cell_type": "markdown",
   "id": "unable-mediterranean",
   "metadata": {},
   "source": [
    "<hr>\n",
    "\n",
    "### Question 9\n",
    "\n",
    "What will the following code print out?\n",
    "\n",
    "```python\n",
    "print(\"strawberry\" < \"watermelon\")\n",
    "```\n",
    "\n",
    "1. `False`\n",
    "2. `True`\n",
    "3. It will result in an error.\n",
    "4. `\"strawberry\" < \"watermelon\"`"
   ]
  },
  {
   "cell_type": "code",
   "execution_count": null,
   "id": "central-crisis",
   "metadata": {},
   "outputs": [],
   "source": [
    "questions[9].show()"
   ]
  },
  {
   "cell_type": "markdown",
   "id": "intellectual-validity",
   "metadata": {},
   "source": [
    "<hr>\n",
    "\n",
    "### Submit"
   ]
  },
  {
   "cell_type": "code",
   "execution_count": null,
   "id": "revised-relevance",
   "metadata": {},
   "outputs": [],
   "source": [
    "submitter.submit(questions)"
   ]
  },
  {
   "cell_type": "code",
   "execution_count": null,
   "id": "first-roulette",
   "metadata": {},
   "outputs": [],
   "source": []
  }
 ],
 "metadata": {
  "kernelspec": {
   "display_name": "Python 3",
   "language": "python",
   "name": "python3"
  },
  "language_info": {
   "codemirror_mode": {
    "name": "ipython",
    "version": 3
   },
   "file_extension": ".py",
   "mimetype": "text/x-python",
   "name": "python",
   "nbconvert_exporter": "python",
   "pygments_lexer": "ipython3",
   "version": "3.8.10"
  }
 },
 "nbformat": 4,
 "nbformat_minor": 5
}
