{
 "cells": [
  {
   "cell_type": "markdown",
   "id": "pretty-short",
   "metadata": {},
   "source": [
    "**DO NOT EDIT THE CODE IN THIS FILE**"
   ]
  },
  {
   "cell_type": "code",
   "execution_count": null,
   "id": "muslim-possible",
   "metadata": {},
   "outputs": [],
   "source": [
    "%reset -f\n",
    "\n",
    "from sys import path\n",
    "path.append(\"../../\")\n",
    "\n",
    "from helpers.submitters import QuizSubmitter\n",
    "from helpers.widgets import MyCheckBoxes, MyRadioButtons\n",
    "\n",
    "questions = [MyRadioButtons() for _ in range(10)]\n",
    "questions[0] = MyRadioButtons(9)\n",
    "questions[5] = MyRadioButtons(2)\n",
    "questions[6] = MyRadioButtons(2)\n",
    "questions[7] = MyRadioButtons(2)\n",
    "questions[9] = MyCheckBoxes(7)\n",
    "\n",
    "submitter = QuizSubmitter(\"07.2\")"
   ]
  },
  {
   "cell_type": "markdown",
   "id": "behavioral-panic",
   "metadata": {},
   "source": [
    "<hr>\n",
    "\n",
    "### Question 0\n",
    "\n",
    "Which of the following is **not** a mode in which a file can be opened using the built-in `open` function?\n",
    "\n",
    "1. `'r'`\n",
    "2. `'w'`\n",
    "3. `'w+b'`\n",
    "4. `'w+'`\n",
    "5. `'rw'`\n",
    "6. `'r+b'`\n",
    "7. `'x'`\n",
    "8. `'wt'`\n",
    "9. `'ab'`"
   ]
  },
  {
   "cell_type": "code",
   "execution_count": null,
   "id": "descending-break",
   "metadata": {},
   "outputs": [],
   "source": [
    "questions[0].show()"
   ]
  },
  {
   "cell_type": "markdown",
   "id": "ethical-madness",
   "metadata": {},
   "source": [
    "<hr>\n",
    "\n",
    "### Question 1\n",
    "\n",
    "Which of the following is **not** a method of the file object returned by the built-in `open` function?\n",
    "\n",
    "1. `close`\n",
    "2. `readlines`\n",
    "3. `reads`\n",
    "4. `writelines`"
   ]
  },
  {
   "cell_type": "code",
   "execution_count": null,
   "id": "greenhouse-photography",
   "metadata": {},
   "outputs": [],
   "source": [
    "questions[1].show()"
   ]
  },
  {
   "cell_type": "markdown",
   "id": "excess-illness",
   "metadata": {},
   "source": [
    "<hr>\n",
    "\n",
    "### Question 2\n",
    "\n",
    "The built-in `open` function has a `buffering` parameter that allows you to turn the buffering off.\n",
    "\n",
    "1. Yes, only in binary mode.\n",
    "2. Yes, only in text mode.\n",
    "3. Yes, both in binary and text modes.\n",
    "4. No, you cannot disable buffering."
   ]
  },
  {
   "cell_type": "code",
   "execution_count": null,
   "id": "hourly-brass",
   "metadata": {},
   "outputs": [],
   "source": [
    "questions[2].show()"
   ]
  },
  {
   "cell_type": "markdown",
   "id": "threaded-sensitivity",
   "metadata": {},
   "source": [
    "<hr>\n",
    "\n",
    "### Question 3\n",
    "\n",
    "Which method can be used to change the file object's position?\n",
    "\n",
    "1. `flush`\n",
    "2. `seek`\n",
    "3. `detach`\n",
    "4. `tell`"
   ]
  },
  {
   "cell_type": "code",
   "execution_count": null,
   "id": "victorian-fiber",
   "metadata": {},
   "outputs": [],
   "source": [
    "questions[3].show()"
   ]
  },
  {
   "cell_type": "markdown",
   "id": "convinced-arlington",
   "metadata": {},
   "source": [
    "<hr>\n",
    "\n",
    "### Question 4\n",
    "\n",
    "The built-in `open` function has a `buffering` parameter that allows you to enable line buffering.\n",
    "\n",
    "1. Yes, only in binary mode.\n",
    "2. Yes, only in text mode.\n",
    "3. Yes, both in binary and text modes.\n",
    "4. No, there is no such thing as line buffering."
   ]
  },
  {
   "cell_type": "code",
   "execution_count": null,
   "id": "creative-resort",
   "metadata": {},
   "outputs": [],
   "source": [
    "questions[4].show()"
   ]
  },
  {
   "cell_type": "markdown",
   "id": "naughty-honey",
   "metadata": {},
   "source": [
    "<hr>\n",
    "\n",
    "### Question 5\n",
    "\n",
    "When you want to read a file, you first must open it.\n",
    "\n",
    "1. True\n",
    "2. False"
   ]
  },
  {
   "cell_type": "code",
   "execution_count": null,
   "id": "fitted-present",
   "metadata": {},
   "outputs": [],
   "source": [
    "questions[5].show()"
   ]
  },
  {
   "cell_type": "markdown",
   "id": "stable-horizon",
   "metadata": {},
   "source": [
    "<hr>\n",
    "\n",
    "### Question 6\n",
    "\n",
    "The built-in `open` function has a parameter that allows you to specify the encoding.\n",
    "\n",
    "1. True\n",
    "2. False"
   ]
  },
  {
   "cell_type": "code",
   "execution_count": null,
   "id": "dying-dubai",
   "metadata": {},
   "outputs": [],
   "source": [
    "questions[6].show()"
   ]
  },
  {
   "cell_type": "markdown",
   "id": "square-durham",
   "metadata": {},
   "source": [
    "<hr>\n",
    "\n",
    "### Question 7\n",
    "\n",
    "When you open a file using the built-in `open` function, the data from the file is loaded into RAM.\n",
    "\n",
    "1. True\n",
    "2. False"
   ]
  },
  {
   "cell_type": "code",
   "execution_count": null,
   "id": "american-incentive",
   "metadata": {},
   "outputs": [],
   "source": [
    "questions[7].show()"
   ]
  },
  {
   "cell_type": "markdown",
   "id": "current-martin",
   "metadata": {},
   "source": [
    "<hr>\n",
    "\n",
    "### Question 8\n",
    "\n",
    "Which method can be used to clear the internal buffer of the file?\n",
    "\n",
    "1. `write`\n",
    "2. `seek`\n",
    "3. `flush`\n",
    "4. `tell`"
   ]
  },
  {
   "cell_type": "code",
   "execution_count": null,
   "id": "certain-device",
   "metadata": {},
   "outputs": [],
   "source": [
    "questions[8].show()"
   ]
  },
  {
   "cell_type": "markdown",
   "id": "alpine-closer",
   "metadata": {},
   "source": [
    "<hr>\n",
    "\n",
    "### Question 9\n",
    "\n",
    "How to count the number of lines in the `LICENSE` file?\n",
    "\n",
    "1. `sum(1 for _ in open(\"LICENSE\"))`\n",
    "2. `len([1 for _ in open(\"LICENSE\")])`\n",
    "3. `len(list(open(\"LICENSE\")))`\n",
    "4. `sum(1 for _ in open(\"LICENSE\").read())`\n",
    "5. `len([1 for _ in open(\"LICENSE\").read()])`\n",
    "6. `len(open(\"LICENSE\").readlines())`\n",
    "7. `open(\"LICENSE\").read().count(\"\\n\")`"
   ]
  },
  {
   "cell_type": "code",
   "execution_count": null,
   "id": "prerequisite-hygiene",
   "metadata": {},
   "outputs": [],
   "source": [
    "questions[9].show()"
   ]
  },
  {
   "cell_type": "markdown",
   "id": "upper-construction",
   "metadata": {},
   "source": [
    "<hr>\n",
    "\n",
    "### Submit"
   ]
  },
  {
   "cell_type": "code",
   "execution_count": null,
   "id": "reported-malaysia",
   "metadata": {},
   "outputs": [],
   "source": [
    "submitter.submit(questions)"
   ]
  },
  {
   "cell_type": "code",
   "execution_count": null,
   "id": "hollow-whole",
   "metadata": {},
   "outputs": [],
   "source": []
  }
 ],
 "metadata": {
  "kernelspec": {
   "display_name": "Python 3",
   "language": "python",
   "name": "python3"
  },
  "language_info": {
   "codemirror_mode": {
    "name": "ipython",
    "version": 3
   },
   "file_extension": ".py",
   "mimetype": "text/x-python",
   "name": "python",
   "nbconvert_exporter": "python",
   "pygments_lexer": "ipython3",
   "version": "3.8.10"
  }
 },
 "nbformat": 4,
 "nbformat_minor": 5
}
