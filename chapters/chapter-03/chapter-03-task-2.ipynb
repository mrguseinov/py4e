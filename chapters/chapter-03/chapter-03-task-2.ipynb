{
 "cells": [
  {
   "cell_type": "code",
   "execution_count": null,
   "id": "scientific-surgeon",
   "metadata": {},
   "outputs": [],
   "source": [
    "# Do not modify the code in this cell.\n",
    "\n",
    "%reset -f\n",
    "\n",
    "from sys import path\n",
    "path.append(\"../../\")\n",
    "\n",
    "from helpers.submitters import TaskSubmitter"
   ]
  },
  {
   "cell_type": "markdown",
   "id": "powered-norwegian",
   "metadata": {},
   "source": [
    "## Task 3.2: Compute Pay With Try–Except\n",
    "\n",
    "Rewrite the \"Task 2.2: Compute Pay\" program using `try` and `except` to handle non-numeric input by printing a message (see below) and exiting the program.\n",
    "\n",
    "<blockquote>\n",
    "<details>\n",
    "<summary>Open me to see the \"Task 2.2: Compute Pay\".</summary>\n",
    "<div style=\"height: 10px;\"></div>\n",
    "\n",
    "Prompt the user for hours worked and rate per hour to compute the gross pay.\n",
    "\n",
    "Use `input()` to read strings and `float()` to convert them to numbers.\n",
    "\n",
    "Use `round()` to round the resulting pay to two decimal places.\n",
    "\n",
    "</details>\n",
    "</blockquote>\n",
    "\n",
    "---\n",
    "\n",
    "After running the cell three times with the following inputs, you should see the following output:\n",
    "\n",
    "```\n",
    "Enter hours: 35.5\n",
    "Enter rate: 2.125\n",
    "Gross pay: 75.44\n",
    "\n",
    "Enter hours: 20\n",
    "Enter rate: nine\n",
    "Error! Enter only numeric input.\n",
    "\n",
    "Enter hours: forty\n",
    "Error! Enter only numeric input.\n",
    "```"
   ]
  },
  {
   "cell_type": "code",
   "execution_count": null,
   "id": "precious-runner",
   "metadata": {},
   "outputs": [],
   "source": [
    "# Modify the code only in the \"YOUR CODE HERE\" block.\n",
    "\n",
    "\n",
    "def foo():\n",
    "\n",
    "    # ========== YOUR CODE HERE ==========\n",
    "    \n",
    "    \n",
    "    \n",
    "    # ====================================\n",
    "\n",
    "\n",
    "foo()"
   ]
  },
  {
   "cell_type": "markdown",
   "id": "packed-comparison",
   "metadata": {},
   "source": [
    "### Submit"
   ]
  },
  {
   "cell_type": "code",
   "execution_count": null,
   "id": "accepted-factory",
   "metadata": {},
   "outputs": [],
   "source": [
    "# Do not modify the code in this cell.\n",
    "\n",
    "with TaskSubmitter(\"03.2\", \"print\") as submitter:\n",
    "    submitter.submit(foo)"
   ]
  },
  {
   "cell_type": "code",
   "execution_count": null,
   "id": "sharing-musical",
   "metadata": {},
   "outputs": [],
   "source": []
  }
 ],
 "metadata": {
  "kernelspec": {
   "display_name": "Python 3 (ipykernel)",
   "language": "python",
   "name": "python3"
  },
  "language_info": {
   "codemirror_mode": {
    "name": "ipython",
    "version": 3
   },
   "file_extension": ".py",
   "mimetype": "text/x-python",
   "name": "python",
   "nbconvert_exporter": "python",
   "pygments_lexer": "ipython3",
   "version": "3.12.2"
  }
 },
 "nbformat": 4,
 "nbformat_minor": 5
}
