{
 "cells": [
  {
   "cell_type": "code",
   "execution_count": null,
   "id": "functioning-humor",
   "metadata": {},
   "outputs": [],
   "source": [
    "# Do not modify the code in this cell.\n",
    "\n",
    "%reset -f\n",
    "\n",
    "from sys import path\n",
    "path.append(\"../../\")\n",
    "\n",
    "from helpers.submitters import TaskSubmitter"
   ]
  },
  {
   "cell_type": "markdown",
   "id": "hindu-fifty",
   "metadata": {},
   "source": [
    "## Task 3.1: Compute Pay With Overtime\n",
    "\n",
    "Rewrite the \"Task 2.2: Compute Pay\" program to give the employee 1.5 times the hourly rate for hours worked above 40 hours.\n",
    "\n",
    "<blockquote>\n",
    "<details>\n",
    "<summary>Open me to see the \"Task 2.2: Compute Pay\".</summary>\n",
    "<div style=\"height: 10px;\"></div>\n",
    "\n",
    "Prompt the user for hours worked and rate per hour to compute the gross pay.\n",
    "\n",
    "Use `input()` to read strings and `float()` to convert them to numbers.\n",
    "\n",
    "Use `round()` to round the resulting pay to two decimal places.\n",
    "\n",
    "</details>\n",
    "</blockquote>\n",
    "\n",
    "*Note: Do not worry about error checking or bad user data.*\n",
    "\n",
    "---\n",
    "\n",
    "After running the cell three times with the following inputs, you should see the following output:\n",
    "\n",
    "```\n",
    "Enter hours: 35.5\n",
    "Enter rate: 2.125\n",
    "Gross pay: 75.44\n",
    "\n",
    "Enter hours: 40\n",
    "Enter rate: 2\n",
    "Gross pay: 80.0\n",
    "\n",
    "Enter hours: 43\n",
    "Enter rate: 2.125\n",
    "Gross pay: 94.56\n",
    "```"
   ]
  },
  {
   "cell_type": "code",
   "execution_count": null,
   "id": "impossible-crawford",
   "metadata": {},
   "outputs": [],
   "source": [
    "# Modify the code only in the \"YOUR CODE HERE\" block.\n",
    "\n",
    "\n",
    "def foo():\n",
    "    hours = float(input(\"Enter hours:\"))\n",
    "\n",
    "    # ========== YOUR CODE HERE ==========\n",
    "    \n",
    "    \n",
    "    \n",
    "    # ====================================\n",
    "\n",
    "    print(f\"Gross pay: {round(pay, 2)}\")\n",
    "\n",
    "\n",
    "foo()"
   ]
  },
  {
   "cell_type": "markdown",
   "id": "abandoned-automation",
   "metadata": {},
   "source": [
    "### Submit"
   ]
  },
  {
   "cell_type": "code",
   "execution_count": null,
   "id": "ongoing-fighter",
   "metadata": {},
   "outputs": [],
   "source": [
    "# Do not modify the code in this cell.\n",
    "\n",
    "with TaskSubmitter(\"03.1\", \"print\") as submitter:\n",
    "    submitter.submit(foo)"
   ]
  },
  {
   "cell_type": "code",
   "execution_count": null,
   "id": "turkish-beads",
   "metadata": {},
   "outputs": [],
   "source": []
  }
 ],
 "metadata": {
  "kernelspec": {
   "display_name": "Python 3 (ipykernel)",
   "language": "python",
   "name": "python3"
  },
  "language_info": {
   "codemirror_mode": {
    "name": "ipython",
    "version": 3
   },
   "file_extension": ".py",
   "mimetype": "text/x-python",
   "name": "python",
   "nbconvert_exporter": "python",
   "pygments_lexer": "ipython3",
   "version": "3.12.2"
  }
 },
 "nbformat": 4,
 "nbformat_minor": 5
}
