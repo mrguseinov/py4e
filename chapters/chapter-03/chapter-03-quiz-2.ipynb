{
 "cells": [
  {
   "cell_type": "markdown",
   "id": "25b5b16c",
   "metadata": {},
   "source": [
    "**DO NOT EDIT THE CODE IN THIS FILE**"
   ]
  },
  {
   "cell_type": "code",
   "execution_count": null,
   "id": "e593f66f",
   "metadata": {},
   "outputs": [],
   "source": [
    "%reset -f\n",
    "\n",
    "from sys import path\n",
    "path.append(\"../../\")\n",
    "\n",
    "from helpers.submitters import QuizSubmitter\n",
    "from helpers.widgets import MyCheckBoxes, MyRadioButtons\n",
    "\n",
    "questions = [\n",
    "    MyRadioButtons(2),\n",
    "    MyCheckBoxes(3),\n",
    "    MyRadioButtons(2),\n",
    "    MyRadioButtons(3),\n",
    "    MyRadioButtons(2),\n",
    "    MyRadioButtons(4),\n",
    "    MyRadioButtons(3),\n",
    "    MyCheckBoxes(4),\n",
    "    MyRadioButtons(4),\n",
    "    MyRadioButtons(4),\n",
    "]\n",
    "\n",
    "submitter = QuizSubmitter(\"03.2\")"
   ]
  },
  {
   "cell_type": "markdown",
   "id": "86b04ff9",
   "metadata": {},
   "source": [
    "<hr>\n",
    "\n",
    "### Question 0\n",
    "\n",
    "A boolean expression is an expression that is either true or false.\n",
    "\n",
    "1. True.\n",
    "2. False."
   ]
  },
  {
   "cell_type": "code",
   "execution_count": null,
   "id": "444ee70c",
   "metadata": {},
   "outputs": [],
   "source": [
    "questions[0].show()"
   ]
  },
  {
   "cell_type": "markdown",
   "id": "c4eaed41",
   "metadata": {},
   "source": [
    "<hr>\n",
    "\n",
    "### Question 1\n",
    "\n",
    "Check all that apply.\n",
    "\n",
    "1. Python prints a traceback when an exception is raised.\n",
    "2. Traceback contains the date the code was written.\n",
    "3. Traceback can help you diagnose and fix the error."
   ]
  },
  {
   "cell_type": "code",
   "execution_count": null,
   "id": "ea8070a4",
   "metadata": {},
   "outputs": [],
   "source": [
    "questions[1].show()"
   ]
  },
  {
   "cell_type": "markdown",
   "id": "73e8abd1",
   "metadata": {},
   "source": [
    "<hr>\n",
    "\n",
    "### Question 2\n",
    "\n",
    "You can use `finally` to make sure files and resources are closed/released regardless of whether an exception occurs, even if you don't catch the exception.\n",
    "\n",
    "1. True.\n",
    "2. False."
   ]
  },
  {
   "cell_type": "code",
   "execution_count": null,
   "id": "8a7c765d",
   "metadata": {},
   "outputs": [],
   "source": [
    "questions[2].show()"
   ]
  },
  {
   "cell_type": "markdown",
   "id": "cd06a3b9",
   "metadata": {},
   "source": [
    "<hr>\n",
    "\n",
    "### Question 3\n",
    "\n",
    "What is wrong with using a bare `except`?\n",
    "\n",
    "1. Bare `except` catches all exceptions, which is probably not what you wanted.\n",
    "2. You cannot have a bare `except` in Python.\n",
    "3. Nothing wrong. You can use bare `except` without any concerns."
   ]
  },
  {
   "cell_type": "code",
   "execution_count": null,
   "id": "addd6d0d",
   "metadata": {},
   "outputs": [],
   "source": [
    "questions[3].show()"
   ]
  },
  {
   "cell_type": "markdown",
   "id": "6baf3a61",
   "metadata": {},
   "source": [
    "<hr>\n",
    "\n",
    "### Question 4\n",
    "\n",
    "Do the following two pieces of code lead to the same result?\n",
    "\n",
    "```python\n",
    "if 0 < x:\n",
    "    if x < 10:\n",
    "        print('x is a positive single-digit number.')\n",
    "```\n",
    "\n",
    "```python\n",
    "if 0 < x or x < 10:\n",
    "    print('x is a positive single-digit number.')\n",
    "```\n",
    "\n",
    "1. Yes.\n",
    "2. No."
   ]
  },
  {
   "cell_type": "code",
   "execution_count": null,
   "id": "a35332ce",
   "metadata": {},
   "outputs": [],
   "source": [
    "questions[4].show()"
   ]
  },
  {
   "cell_type": "markdown",
   "id": "8ffeed15",
   "metadata": {},
   "source": [
    "<hr>\n",
    "\n",
    "### Question 5\n",
    "\n",
    "What will the following code print out?\n",
    "\n",
    "```python\n",
    "a = 5\n",
    "b = 0\n",
    "c = a or b and \"Still D.R.E.\"\n",
    "print(c)\n",
    "```\n",
    "\n",
    "1. `0`\n",
    "2. `5`\n",
    "3. `Still D.R.E.`\n",
    "4. It will produce an error."
   ]
  },
  {
   "cell_type": "code",
   "execution_count": null,
   "id": "a676c943",
   "metadata": {},
   "outputs": [],
   "source": [
    "questions[5].show()"
   ]
  },
  {
   "cell_type": "markdown",
   "id": "7ef4fe16",
   "metadata": {},
   "source": [
    "<hr>\n",
    "\n",
    "### Question 6\n",
    "\n",
    "When Python detects that there is nothing to be gained by evaluating the rest of a logical expression, it nevertheless continues its evaluation and does the computations in the rest of the logical expression.\n",
    "\n",
    "1. True. It's called the short-circuit evaluation.\n",
    "2. False. It doesn't work like that.\n",
    "3. True. It's called the guardian pattern."
   ]
  },
  {
   "cell_type": "code",
   "execution_count": null,
   "id": "8209a7e2",
   "metadata": {},
   "outputs": [],
   "source": [
    "questions[6].show()"
   ]
  },
  {
   "cell_type": "markdown",
   "id": "2b63bdf1",
   "metadata": {},
   "source": [
    "<hr>\n",
    "\n",
    "### Question 7\n",
    "\n",
    "Check all that apply.\n",
    "\n",
    "1. `bool(0) = False`\n",
    "2. `bool(None) = True`\n",
    "3. `bool(range(0)) = True`\n",
    "4. `bool(\"\") = False`"
   ]
  },
  {
   "cell_type": "code",
   "execution_count": null,
   "id": "5f8e1d27",
   "metadata": {},
   "outputs": [],
   "source": [
    "questions[7].show()"
   ]
  },
  {
   "cell_type": "markdown",
   "id": "c2cc7726",
   "metadata": {},
   "source": [
    "<hr>\n",
    "\n",
    "### Question 8\n",
    "\n",
    "Consider the following code, where `x` and `y` are some integers:\n",
    "\n",
    "```python\n",
    "x >= 2 and x / y > 2\n",
    "```\n",
    "\n",
    "How to use the guardian pattern in this case?\n",
    "\n",
    "1. `x >= 2 and y != 0 and x / y > 2`\n",
    "2. `x >= 2 and y == 0 and x / y > 2`\n",
    "3. `y != 0 or x >= 2 and x / y > 2`\n",
    "4. In this case, there is no way to use the guardian pattern."
   ]
  },
  {
   "cell_type": "code",
   "execution_count": null,
   "id": "c98910b4",
   "metadata": {},
   "outputs": [],
   "source": [
    "questions[8].show()"
   ]
  },
  {
   "cell_type": "markdown",
   "id": "cc2c25df",
   "metadata": {},
   "source": [
    "<hr>\n",
    "\n",
    "### Question 9\n",
    "\n",
    "What will the following code print out?\n",
    "\n",
    "```python\n",
    "a = \"\"\n",
    "b = True\n",
    "c = 1.5\n",
    "c = a or b or c and a\n",
    "print(c)\n",
    "```\n",
    "\n",
    "1. `True`\n",
    "2. `\"\"`\n",
    "3. `1.5`\n",
    "4. `False`"
   ]
  },
  {
   "cell_type": "code",
   "execution_count": null,
   "id": "f7399e74",
   "metadata": {},
   "outputs": [],
   "source": [
    "questions[9].show()"
   ]
  },
  {
   "cell_type": "markdown",
   "id": "414271a3",
   "metadata": {},
   "source": [
    "<hr>\n",
    "\n",
    "### Submit"
   ]
  },
  {
   "cell_type": "code",
   "execution_count": null,
   "id": "85f25cb9",
   "metadata": {},
   "outputs": [],
   "source": [
    "submitter.submit(questions)"
   ]
  },
  {
   "cell_type": "code",
   "execution_count": null,
   "id": "4ca8852c",
   "metadata": {},
   "outputs": [],
   "source": []
  }
 ],
 "metadata": {
  "kernelspec": {
   "display_name": "Python 3",
   "language": "python",
   "name": "python3"
  },
  "language_info": {
   "codemirror_mode": {
    "name": "ipython",
    "version": 3
   },
   "file_extension": ".py",
   "mimetype": "text/x-python",
   "name": "python",
   "nbconvert_exporter": "python",
   "pygments_lexer": "ipython3",
   "version": "3.8.10"
  }
 },
 "nbformat": 4,
 "nbformat_minor": 5
}
