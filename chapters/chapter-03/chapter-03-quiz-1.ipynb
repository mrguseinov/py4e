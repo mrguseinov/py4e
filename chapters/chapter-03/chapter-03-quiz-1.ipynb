{
 "cells": [
  {
   "cell_type": "markdown",
   "id": "25b5b16c",
   "metadata": {},
   "source": [
    "**DO NOT EDIT THE CODE IN THIS FILE**"
   ]
  },
  {
   "cell_type": "code",
   "execution_count": null,
   "id": "e593f66f",
   "metadata": {},
   "outputs": [],
   "source": [
    "%reset -f\n",
    "\n",
    "from sys import path\n",
    "path.append(\"../../\")\n",
    "\n",
    "from helpers.submitters import QuizSubmitter\n",
    "from helpers.widgets import MyRadioButtons\n",
    "\n",
    "questions = [MyRadioButtons(4) for _ in range(10)]\n",
    "\n",
    "submitter = QuizSubmitter(\"03.1\")"
   ]
  },
  {
   "cell_type": "markdown",
   "id": "86b04ff9",
   "metadata": {},
   "source": [
    "<hr>\n",
    "\n",
    "### Question 0\n",
    "\n",
    "What will the following code print out?\n",
    "\n",
    "```python\n",
    "a = 12\n",
    "b = 5\n",
    "if a + b:\n",
    "    print(\"True\")\n",
    "else:\n",
    "    print(\"False\")\n",
    "```\n",
    "\n",
    "1. `12`\n",
    "2. `5`\n",
    "3. `False`\n",
    "4. `True`"
   ]
  },
  {
   "cell_type": "code",
   "execution_count": null,
   "id": "444ee70c",
   "metadata": {},
   "outputs": [],
   "source": [
    "questions[0].show()"
   ]
  },
  {
   "cell_type": "markdown",
   "id": "c4eaed41",
   "metadata": {},
   "source": [
    "<hr>\n",
    "\n",
    "### Question 1\n",
    "\n",
    "Which of these operators is **not** a comparison operator?\n",
    "\n",
    " 1. `!=`\n",
    " 2. `>`\n",
    " 3. `=`\n",
    " 4. `==`"
   ]
  },
  {
   "cell_type": "code",
   "execution_count": null,
   "id": "ea8070a4",
   "metadata": {},
   "outputs": [],
   "source": [
    "questions[1].show()"
   ]
  },
  {
   "cell_type": "markdown",
   "id": "73e8abd1",
   "metadata": {},
   "source": [
    "<hr>\n",
    "\n",
    "### Question 2\n",
    "\n",
    "What is true about the following code segment?\n",
    "\n",
    "```python\n",
    "if x == 5:\n",
    "    print(\"Is 5\")\n",
    "    print(\"Is Still 5\")\n",
    "    print(\"Third 5\")\n",
    "```\n",
    "\n",
    "1. Depending on the value of `x`, either all three of the print statements will execute or none of them.\n",
    "2. The string `\"Is 5\"` will always print out regardless of the value for `x`.\n",
    "3. The string `\"Is 5\"` will never print out regardless of the value for `x`.\n",
    "4. If `x` is less than zero, two of the three print statements will execute."
   ]
  },
  {
   "cell_type": "code",
   "execution_count": null,
   "id": "8a7c765d",
   "metadata": {},
   "outputs": [],
   "source": [
    "questions[2].show()"
   ]
  },
  {
   "cell_type": "markdown",
   "id": "cd06a3b9",
   "metadata": {},
   "source": [
    "<hr>\n",
    "\n",
    "### Question 3\n",
    "\n",
    "What will the following code print out?\n",
    "\n",
    "```python\n",
    "if True:\n",
    "    print(101)\n",
    "else:\n",
    "    print(202)\n",
    "```\n",
    "\n",
    "1. `202`\n",
    "2. `True`\n",
    "3. `101`\n",
    "4. `False`"
   ]
  },
  {
   "cell_type": "code",
   "execution_count": null,
   "id": "addd6d0d",
   "metadata": {},
   "outputs": [],
   "source": [
    "questions[3].show()"
   ]
  },
  {
   "cell_type": "markdown",
   "id": "6baf3a61",
   "metadata": {},
   "source": [
    "<hr>\n",
    "\n",
    "### Question 4\n",
    "\n",
    "The following code looks perfect but Python gives you an `Indentation Error` on the second `print` function:\n",
    "\n",
    "```python\n",
    "if x == 6:\n",
    "    print(\"Is 6\")\n",
    "    print(\"Is Still 6\")\n",
    "    print(\"Third 6\")\n",
    "```\n",
    "\n",
    "What is the most likely reason?\n",
    "\n",
    "1. In order to make humans feel inadequate, Python randomly emits `Indentation Errors` on perfectly good code — after about an hour the error will just go away without any changes to your program.\n",
    "2. You have mixed tabs and spaces in the file.\n",
    "3. Python thinks `Still` is a mis-spelled word in the string.\n",
    "4. Python has reached its limit on the largest Python program that can be run."
   ]
  },
  {
   "cell_type": "code",
   "execution_count": null,
   "id": "a35332ce",
   "metadata": {},
   "outputs": [],
   "source": [
    "questions[4].show()"
   ]
  },
  {
   "cell_type": "markdown",
   "id": "8ffeed15",
   "metadata": {},
   "source": [
    "<hr>\n",
    "\n",
    "### Question 5\n",
    "\n",
    "What will the following code print out?\n",
    "\n",
    "```python\n",
    "try:\n",
    "    1 / 0\n",
    "except (ZeroDivisionError, TypeError):\n",
    "    print(\"Hi!\")\n",
    "except Exception:\n",
    "    print(\"Bye!\")\n",
    "```\n",
    "\n",
    "1. `Hi!`\n",
    "2. `1`\n",
    "3. `Bye!`\n",
    "4. `0`"
   ]
  },
  {
   "cell_type": "code",
   "execution_count": null,
   "id": "a676c943",
   "metadata": {},
   "outputs": [],
   "source": [
    "questions[5].show()"
   ]
  },
  {
   "cell_type": "markdown",
   "id": "7ef4fe16",
   "metadata": {},
   "source": [
    "<hr>\n",
    "\n",
    "### Question 6\n",
    "\n",
    "What will the following code print out?\n",
    "\n",
    "```python\n",
    "x = 0\n",
    "if x < 2:\n",
    "    print(\"Small\")\n",
    "elif x < 10:\n",
    "    print(\"Medium\")\n",
    "else:\n",
    "    print(\"Large\")\n",
    "print(\"All done\")\n",
    "```\n",
    "\n",
    "1. `Large`<br>\n",
    "   `All done`\n",
    "2. `All done`\n",
    "3. `Small`<br>\n",
    "   `Medium`<br>\n",
    "   `Large`<br>\n",
    "   `All done`\n",
    "4. `Small`<br>\n",
    "   `All done`"
   ]
  },
  {
   "cell_type": "code",
   "execution_count": null,
   "id": "8209a7e2",
   "metadata": {},
   "outputs": [],
   "source": [
    "questions[6].show()"
   ]
  },
  {
   "cell_type": "markdown",
   "id": "2b63bdf1",
   "metadata": {},
   "source": [
    "<hr>\n",
    "\n",
    "### Question 7\n",
    "\n",
    "For the following code:\n",
    "\n",
    "```python\n",
    "if x < 2:\n",
    "    print(\"Below 2\")\n",
    "elif x >= 2:\n",
    "    print(\"Two or more\")\n",
    "else:\n",
    "    print(\"Something else\")\n",
    "```\n",
    "What value of `x` will cause `\"Something else\"` to print out?\n",
    "\n",
    "1. This code will never print `\"Something else\"` regardless of the value for `x`.\n",
    "2. `-22`\n",
    "3. `2`\n",
    "4. `-2`"
   ]
  },
  {
   "cell_type": "code",
   "execution_count": null,
   "id": "5f8e1d27",
   "metadata": {},
   "outputs": [],
   "source": [
    "questions[7].show()"
   ]
  },
  {
   "cell_type": "markdown",
   "id": "c2cc7726",
   "metadata": {},
   "source": [
    "<hr>\n",
    "\n",
    "### Question 8\n",
    "\n",
    "In the following code, which line will be the last successfully executed one?\n",
    "\n",
    "```python\n",
    "(1)  name = \"Hello Bob\"\n",
    "(2)  name = int(name)\n",
    "(3)  print(\"First\", name)\n",
    "(4)  age = \"23\"\n",
    "(5)  age = int(age)\n",
    "(6)  print(\"Second\", age)\n",
    "```\n",
    "\n",
    "1. `1`\n",
    "2. `2`\n",
    "3. `5`\n",
    "4. `6`"
   ]
  },
  {
   "cell_type": "code",
   "execution_count": null,
   "id": "c98910b4",
   "metadata": {},
   "outputs": [],
   "source": [
    "questions[8].show()"
   ]
  },
  {
   "cell_type": "markdown",
   "id": "cc2c25df",
   "metadata": {},
   "source": [
    "<hr>\n",
    "\n",
    "### Question 9\n",
    "\n",
    "For the following code:\n",
    "\n",
    "```python\n",
    "age = \"13d\"\n",
    "try:\n",
    "    age = int(age)\n",
    "except ValueError:\n",
    "    age = -1\n",
    "```\n",
    "\n",
    "What will be the value of `age` after executing the code?\n",
    "\n",
    "1. `0`\n",
    "2. `-1`\n",
    "3. The `age` variable will not have a value.\n",
    "4. It will be the `Not a number` value (i.e., `NaN`)."
   ]
  },
  {
   "cell_type": "code",
   "execution_count": null,
   "id": "f7399e74",
   "metadata": {},
   "outputs": [],
   "source": [
    "questions[9].show()"
   ]
  },
  {
   "cell_type": "markdown",
   "id": "414271a3",
   "metadata": {},
   "source": [
    "<hr>\n",
    "\n",
    "### Submit"
   ]
  },
  {
   "cell_type": "code",
   "execution_count": null,
   "id": "85f25cb9",
   "metadata": {},
   "outputs": [],
   "source": [
    "submitter.submit(questions)"
   ]
  },
  {
   "cell_type": "code",
   "execution_count": null,
   "id": "4ca8852c",
   "metadata": {},
   "outputs": [],
   "source": []
  }
 ],
 "metadata": {
  "kernelspec": {
   "display_name": "Python 3 (ipykernel)",
   "language": "python",
   "name": "python3"
  },
  "language_info": {
   "codemirror_mode": {
    "name": "ipython",
    "version": 3
   },
   "file_extension": ".py",
   "mimetype": "text/x-python",
   "name": "python",
   "nbconvert_exporter": "python",
   "pygments_lexer": "ipython3",
   "version": "3.12.2"
  }
 },
 "nbformat": 4,
 "nbformat_minor": 5
}
