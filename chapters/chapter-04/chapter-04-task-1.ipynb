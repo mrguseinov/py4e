{
 "cells": [
  {
   "cell_type": "code",
   "execution_count": null,
   "id": "opponent-carpet",
   "metadata": {},
   "outputs": [],
   "source": [
    "# Do not modify the code in this cell.\n",
    "\n",
    "%reset -f\n",
    "\n",
    "from sys import path\n",
    "path.append(\"../../\")\n",
    "\n",
    "from helpers.submitters import TaskSubmitter"
   ]
  },
  {
   "cell_type": "markdown",
   "id": "copyrighted-bradford",
   "metadata": {},
   "source": [
    "## Task 4.1: Compute Pay With Overtime Again\n",
    "\n",
    "Rewrite the \"Task 3.1: Compute Pay With Overtime\" program using a function, that takes `hours` and `rate` as parameters and returns `pay`.\n",
    "\n",
    "<blockquote>\n",
    "<details>\n",
    "<summary>Open me to see the \"Task 3.1: Compute Pay With Overtime\".</summary>\n",
    "<div style=\"height: 10px;\"></div>\n",
    "\n",
    "Prompt the user for hours worked and rate per hour to compute the gross pay. Use `input()` to read strings and `float()` to convert them to numbers.\n",
    "\n",
    "Give the employee 1.5 times the hourly rate for hours worked above 40 hours.\n",
    "\n",
    "Use `round()` to round the resulting pay to two decimal places.\n",
    "\n",
    "</details>\n",
    "</blockquote>\n",
    "\n",
    "*Note: Do not worry about error checking or bad user data.*\n",
    "\n",
    "---\n",
    "\n",
    "After running the cell, you should see the following output: `94.56`"
   ]
  },
  {
   "cell_type": "code",
   "execution_count": null,
   "id": "great-watershed",
   "metadata": {},
   "outputs": [],
   "source": [
    "# Modify the code only in the \"YOUR CODE HERE\" block.\n",
    "\n",
    "\n",
    "def foo(hours, rate):\n",
    "\n",
    "    # ========== YOUR CODE HERE ==========\n",
    "    \n",
    "    \n",
    "    \n",
    "    # ====================================\n",
    "\n",
    "    return round(pay, 2)\n",
    "\n",
    "\n",
    "foo(43, 2.125)"
   ]
  },
  {
   "cell_type": "markdown",
   "id": "active-dragon",
   "metadata": {},
   "source": [
    "### Submit"
   ]
  },
  {
   "cell_type": "code",
   "execution_count": null,
   "id": "hispanic-andrews",
   "metadata": {},
   "outputs": [],
   "source": [
    "# Do not modify the code in this cell.\n",
    "\n",
    "with TaskSubmitter(\"04.1\", \"return\") as submitter:\n",
    "    submitter.submit(foo)"
   ]
  },
  {
   "cell_type": "code",
   "execution_count": null,
   "id": "45cbfefd-c57e-4379-a032-a307b03f9eb4",
   "metadata": {},
   "outputs": [],
   "source": []
  }
 ],
 "metadata": {
  "kernelspec": {
   "display_name": "Python 3",
   "language": "python",
   "name": "python3"
  },
  "language_info": {
   "codemirror_mode": {
    "name": "ipython",
    "version": 3
   },
   "file_extension": ".py",
   "mimetype": "text/x-python",
   "name": "python",
   "nbconvert_exporter": "python",
   "pygments_lexer": "ipython3",
   "version": "3.8.10"
  }
 },
 "nbformat": 4,
 "nbformat_minor": 5
}
