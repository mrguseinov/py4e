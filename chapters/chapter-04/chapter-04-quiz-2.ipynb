{
 "cells": [
  {
   "cell_type": "markdown",
   "id": "progressive-reservation",
   "metadata": {},
   "source": [
    "**DO NOT EDIT THE CODE IN THIS FILE**"
   ]
  },
  {
   "cell_type": "code",
   "execution_count": null,
   "id": "competent-coach",
   "metadata": {},
   "outputs": [],
   "source": [
    "%reset -f\n",
    "\n",
    "from sys import path\n",
    "path.append(\"../../\")\n",
    "\n",
    "from helpers.submitters import QuizSubmitter\n",
    "from helpers.widgets import MyCheckBoxes, MyRadioButtons\n",
    "\n",
    "questions = [\n",
    "    MyCheckBoxes(4),\n",
    "    MyRadioButtons(4),\n",
    "    MyRadioButtons(2),\n",
    "    MyCheckBoxes(4),\n",
    "    MyRadioButtons(4),\n",
    "    MyCheckBoxes(4),\n",
    "    MyRadioButtons(4),\n",
    "    MyRadioButtons(4),\n",
    "    MyRadioButtons(4),\n",
    "    MyRadioButtons(4),\n",
    "]\n",
    "\n",
    "submitter = QuizSubmitter(\"04.2\")"
   ]
  },
  {
   "cell_type": "markdown",
   "id": "collective-cream",
   "metadata": {},
   "source": [
    "<hr>\n",
    "\n",
    "### Question 0\n",
    "\n",
    "How many arguments can the `print` function take?\n",
    "\n",
    "1. An arbitrary number of positional arguments.\n",
    "2. Up to five keyword arguments.\n",
    "3. Only one positional or keyword argument.\n",
    "4. Up to four keyword arguments."
   ]
  },
  {
   "cell_type": "code",
   "execution_count": null,
   "id": "behind-ground",
   "metadata": {},
   "outputs": [],
   "source": [
    "questions[0].show()"
   ]
  },
  {
   "cell_type": "markdown",
   "id": "medical-physiology",
   "metadata": {},
   "source": [
    "<hr>\n",
    "\n",
    "### Question 1\n",
    "\n",
    "How does the `max` function work on strings?\n",
    "\n",
    "1. Lexically.\n",
    "2. Lexicographically.\n",
    "3. You cannot use `max` on string objects.\n",
    "4. Graphically."
   ]
  },
  {
   "cell_type": "code",
   "execution_count": null,
   "id": "flexible-spectacular",
   "metadata": {},
   "outputs": [],
   "source": [
    "questions[1].show()"
   ]
  },
  {
   "cell_type": "markdown",
   "id": "accomplished-bones",
   "metadata": {},
   "source": [
    "<hr>\n",
    "\n",
    "### Question 2\n",
    "\n",
    "A pseudorandom sequence of numbers is one that appears to be statistically random, despite having been produced by a completely deterministic and repeatable process.\n",
    "\n",
    "1. True\n",
    "2. False"
   ]
  },
  {
   "cell_type": "code",
   "execution_count": null,
   "id": "difficult-statistics",
   "metadata": {},
   "outputs": [],
   "source": [
    "questions[2].show()"
   ]
  },
  {
   "cell_type": "markdown",
   "id": "funny-distance",
   "metadata": {},
   "source": [
    "<hr>\n",
    "\n",
    "### Question 3\n",
    "\n",
    "Check all that apply.\n",
    "\n",
    "1. Most of the functions in the `random` module aren't cryptographically secure.\n",
    "2. The `secrets` module is designed for cryptography.\n",
    "3. The `secrets` module is designed for games, quizzes and simulations.\n",
    "4. All functions in the `random` module are cryptographically secure."
   ]
  },
  {
   "cell_type": "code",
   "execution_count": null,
   "id": "respected-infrastructure",
   "metadata": {},
   "outputs": [],
   "source": [
    "questions[3].show()"
   ]
  },
  {
   "cell_type": "markdown",
   "id": "italic-detail",
   "metadata": {},
   "source": [
    "<hr>\n",
    "\n",
    "### Question 4\n",
    "\n",
    "What will the following code print out?\n",
    "\n",
    "```python\n",
    "title = \"Never Gonna Give You Up\"\n",
    "print(len(title))\n",
    "```\n",
    "\n",
    "1. It will produce an error.\n",
    "2. `5`\n",
    "3. `23`\n",
    "4. `len`"
   ]
  },
  {
   "cell_type": "code",
   "execution_count": null,
   "id": "capable-palmer",
   "metadata": {},
   "outputs": [],
   "source": [
    "questions[4].show()"
   ]
  },
  {
   "cell_type": "markdown",
   "id": "secure-render",
   "metadata": {},
   "source": [
    "<hr>\n",
    "\n",
    "### Question 5\n",
    "\n",
    "Check all that apply.\n",
    "\n",
    "```python\n",
    "import random\n",
    "\n",
    "a = random.randint(3, 9)\n",
    "b = random.choice([1, 2, 3])\n",
    "```\n",
    "\n",
    "1. `a` is a float between `3` and `9` (both included).\n",
    "2. `a` is a integer between `3` (inclusive) and `9` (exclusive).\n",
    "3. `b` is either `1`, `2` or `3`.\n",
    "4. `a` is a integer between `3` and `9` (both included)."
   ]
  },
  {
   "cell_type": "code",
   "execution_count": null,
   "id": "statistical-death",
   "metadata": {},
   "outputs": [],
   "source": [
    "questions[5].show()"
   ]
  },
  {
   "cell_type": "markdown",
   "id": "attached-welsh",
   "metadata": {},
   "source": [
    "<hr>\n",
    "\n",
    "### Question 6\n",
    "\n",
    "On which line(s) is the function definition?\n",
    "\n",
    "```python\n",
    "(1)  def add(a: int, b: int) -> int:\n",
    "(2)     return a + b\n",
    "(3)\n",
    "(4)  add(1, 3)\n",
    "```\n",
    "\n",
    "1. `1`\n",
    "2. `2`\n",
    "3. `1–2`\n",
    "4. `4`"
   ]
  },
  {
   "cell_type": "code",
   "execution_count": null,
   "id": "academic-berkeley",
   "metadata": {},
   "outputs": [],
   "source": [
    "questions[6].show()"
   ]
  },
  {
   "cell_type": "markdown",
   "id": "amino-invention",
   "metadata": {},
   "source": [
    "<hr>\n",
    "\n",
    "### Question 7\n",
    "\n",
    "What is the function object in the following code?\n",
    "\n",
    "```python\n",
    "(1)  def add(a: int, b: int) -> int:\n",
    "(2)     return a + b\n",
    "(3)\n",
    "(4)  add(1, 3)\n",
    "```\n",
    "\n",
    "1. `add(1, 3)`\n",
    "2. There is no function object in the code.\n",
    "3. `add`\n",
    "4. `add()`"
   ]
  },
  {
   "cell_type": "code",
   "execution_count": null,
   "id": "random-claim",
   "metadata": {},
   "outputs": [],
   "source": [
    "questions[7].show()"
   ]
  },
  {
   "cell_type": "markdown",
   "id": "massive-recruitment",
   "metadata": {},
   "source": [
    "<hr>\n",
    "\n",
    "### Question 8\n",
    "\n",
    "On which line(s) is the function call?\n",
    "\n",
    "```python\n",
    "(1)  def add(a: int, b: int) -> int:\n",
    "(2)     return a + b\n",
    "(3)\n",
    "(4)  add(1, 3)\n",
    "```\n",
    "\n",
    "1. `1`\n",
    "2. `2`\n",
    "3. `1–2`\n",
    "4. `4`"
   ]
  },
  {
   "cell_type": "code",
   "execution_count": null,
   "id": "outstanding-child",
   "metadata": {},
   "outputs": [],
   "source": [
    "questions[8].show()"
   ]
  },
  {
   "cell_type": "markdown",
   "id": "martial-projection",
   "metadata": {},
   "source": [
    "<hr>\n",
    "\n",
    "### Question 9\n",
    "\n",
    "Do functions without the `return` statement return anything?\n",
    "\n",
    "1. They don't return.\n",
    "2. They return `None`.\n",
    "3. You cannot write a function without the `return` statement.\n",
    "4. They return `0`."
   ]
  },
  {
   "cell_type": "code",
   "execution_count": null,
   "id": "cultural-thomson",
   "metadata": {},
   "outputs": [],
   "source": [
    "questions[9].show()"
   ]
  },
  {
   "cell_type": "markdown",
   "id": "applied-deputy",
   "metadata": {},
   "source": [
    "<hr>\n",
    "\n",
    "### Submit"
   ]
  },
  {
   "cell_type": "code",
   "execution_count": null,
   "id": "national-terminal",
   "metadata": {},
   "outputs": [],
   "source": [
    "submitter.submit(questions)"
   ]
  },
  {
   "cell_type": "code",
   "execution_count": null,
   "id": "korean-reality",
   "metadata": {},
   "outputs": [],
   "source": []
  }
 ],
 "metadata": {
  "kernelspec": {
   "display_name": "Python 3",
   "language": "python",
   "name": "python3"
  },
  "language_info": {
   "codemirror_mode": {
    "name": "ipython",
    "version": 3
   },
   "file_extension": ".py",
   "mimetype": "text/x-python",
   "name": "python",
   "nbconvert_exporter": "python",
   "pygments_lexer": "ipython3",
   "version": "3.8.10"
  }
 },
 "nbformat": 4,
 "nbformat_minor": 5
}
