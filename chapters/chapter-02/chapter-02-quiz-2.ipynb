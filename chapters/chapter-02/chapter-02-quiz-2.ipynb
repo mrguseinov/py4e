{
 "cells": [
  {
   "cell_type": "markdown",
   "id": "wrapped-marine",
   "metadata": {},
   "source": [
    "**DO NOT EDIT THE CODE IN THIS FILE**"
   ]
  },
  {
   "cell_type": "code",
   "execution_count": null,
   "id": "challenging-panama",
   "metadata": {},
   "outputs": [],
   "source": [
    "%reset -f\n",
    "\n",
    "from sys import path\n",
    "path.append(\"../../\")\n",
    "\n",
    "from helpers.submitters import QuizSubmitter\n",
    "from helpers.widgets import MyCheckBoxes, MyRadioButtons\n",
    "\n",
    "questions = [\n",
    "    MyCheckBoxes(4),\n",
    "    MyRadioButtons(4),\n",
    "    MyRadioButtons(2),\n",
    "    MyCheckBoxes(4),\n",
    "    MyCheckBoxes(4),\n",
    "    MyRadioButtons(4),\n",
    "    MyRadioButtons(3),\n",
    "    MyRadioButtons(3),\n",
    "    MyCheckBoxes(5),\n",
    "    MyRadioButtons(3),\n",
    "]\n",
    "\n",
    "submitter = QuizSubmitter(\"02.2\")"
   ]
  },
  {
   "cell_type": "markdown",
   "id": "oriental-plane",
   "metadata": {},
   "source": [
    "<hr>\n",
    "\n",
    "### Question 0\n",
    "\n",
    "What's the difference between the following variables?\n",
    "\n",
    "```python\n",
    "a = 10\n",
    "b = \"10\"\n",
    "```\n",
    "\n",
    "1. `a` is of type `int`.\n",
    "2. `b` is of type `int`.\n",
    "3. `a` is of type `float`.\n",
    "4. `b` is of type `str`."
   ]
  },
  {
   "cell_type": "code",
   "execution_count": null,
   "id": "adjusted-screw",
   "metadata": {},
   "outputs": [],
   "source": [
    "questions[0].show()"
   ]
  },
  {
   "cell_type": "markdown",
   "id": "pressing-space",
   "metadata": {},
   "source": [
    "<hr>\n",
    "\n",
    "### Question 1\n",
    "\n",
    "What will the following code print out?\n",
    "\n",
    "```python\n",
    "hours = 100\n",
    "rate = 1.5\n",
    "print(type(hours))\n",
    "```\n",
    "\n",
    "1. `100`\n",
    "2. `hours`\n",
    "3. `<class 'int'>`\n",
    "4. `type`"
   ]
  },
  {
   "cell_type": "code",
   "execution_count": null,
   "id": "periodic-jewelry",
   "metadata": {},
   "outputs": [],
   "source": [
    "questions[1].show()"
   ]
  },
  {
   "cell_type": "markdown",
   "id": "weird-inspiration",
   "metadata": {},
   "source": [
    "<hr>\n",
    "\n",
    "### Question 2\n",
    "\n",
    "An expression is an accumulation of elements like literals, names, attribute access, operators or function calls which all return a value.\n",
    "\n",
    "1. True.\n",
    "2. False."
   ]
  },
  {
   "cell_type": "code",
   "execution_count": null,
   "id": "handy-study",
   "metadata": {},
   "outputs": [],
   "source": [
    "questions[2].show()"
   ]
  },
  {
   "cell_type": "markdown",
   "id": "automatic-concentrate",
   "metadata": {},
   "source": [
    "<hr>\n",
    "\n",
    "### Question 3\n",
    "\n",
    "How to calculate $ 5^8 $ in Python?\n",
    "\n",
    "1. `5 * 8`\n",
    "2. `5 ** 8`\n",
    "3. `import math; math.pow(5, 8)`\n",
    "4. `8 ** 5`"
   ]
  },
  {
   "cell_type": "code",
   "execution_count": null,
   "id": "blocked-television",
   "metadata": {},
   "outputs": [],
   "source": [
    "questions[3].show()"
   ]
  },
  {
   "cell_type": "markdown",
   "id": "attended-conclusion",
   "metadata": {},
   "source": [
    "<hr>\n",
    "\n",
    "### Question 4\n",
    "\n",
    "Check all that apply.\n",
    "\n",
    "1. `10 / 5 = 2.0`\n",
    "2. `10 // 5 = 2`\n",
    "3. `10 / 5 = 2`\n",
    "4. `10 // 5 = 2.0`"
   ]
  },
  {
   "cell_type": "code",
   "execution_count": null,
   "id": "unable-dollar",
   "metadata": {},
   "outputs": [],
   "source": [
    "questions[4].show()"
   ]
  },
  {
   "cell_type": "markdown",
   "id": "affiliated-guidance",
   "metadata": {},
   "source": [
    "<hr>\n",
    "\n",
    "### Question 5\n",
    "\n",
    "The `input` function has one parameter. What is it?\n",
    "\n",
    "1. The `prompt` string, which is printed to the standard output before the input is read.\n",
    "2. The `input` function has no parameters.\n",
    "3. The `prompt` string, which is printed to the standard output after the input is read.\n",
    "4. The `input` function has more than one parameter."
   ]
  },
  {
   "cell_type": "code",
   "execution_count": null,
   "id": "military-beads",
   "metadata": {},
   "outputs": [],
   "source": [
    "questions[5].show()"
   ]
  },
  {
   "cell_type": "markdown",
   "id": "nervous-setup",
   "metadata": {},
   "source": [
    "<hr>\n",
    "\n",
    "### Question 6\n",
    "\n",
    "When to use comments?\n",
    "\n",
    "1. You should comment almost every line of code.\n",
    "2. You should not use comments at all.\n",
    "3. You should strive to make comments unnecessary by writing self-documenting code."
   ]
  },
  {
   "cell_type": "code",
   "execution_count": null,
   "id": "presidential-merit",
   "metadata": {},
   "outputs": [],
   "source": [
    "questions[6].show()"
   ]
  },
  {
   "cell_type": "markdown",
   "id": "permanent-reduction",
   "metadata": {},
   "source": [
    "<hr>\n",
    "\n",
    "### Question 7\n",
    "\n",
    "Is Python case sensitive when dealing with variables names?\n",
    "\n",
    "1. Yes.\n",
    "2. No.\n",
    "3. Machine dependent."
   ]
  },
  {
   "cell_type": "code",
   "execution_count": null,
   "id": "environmental-arcade",
   "metadata": {},
   "outputs": [],
   "source": [
    "questions[7].show()"
   ]
  },
  {
   "cell_type": "markdown",
   "id": "unusual-demographic",
   "metadata": {},
   "source": [
    "<hr>\n",
    "\n",
    "### Question 8\n",
    "\n",
    "Check all that apply.\n",
    "\n",
    "1. Operators are special symbols that represent computations like addition and multiplication.\n",
    "2. The values the operand is applied to are called operators.\n",
    "3. Operands are special symbols that represent computations like division and exponentiation.\n",
    "4. The values the operator is applied to are called operands.\n",
    "5. Operators and operands mean the same thing."
   ]
  },
  {
   "cell_type": "code",
   "execution_count": null,
   "id": "sorted-intermediate",
   "metadata": {},
   "outputs": [],
   "source": [
    "questions[8].show()"
   ]
  },
  {
   "cell_type": "markdown",
   "id": "institutional-loading",
   "metadata": {},
   "source": [
    "<hr>\n",
    "\n",
    "### Question 9\n",
    "\n",
    "What will the following code print out?\n",
    "\n",
    "```python\n",
    "class = \"You like my hair? Gee, thanks, just bought it.\"\n",
    "print(class)\n",
    "```\n",
    "\n",
    "1. It will result in an error, because Python doesn't want to mess with Ariana.\n",
    "2. `You like my hair? Gee, thanks, just bought it.`\n",
    "3. It will result in an error, because `class` is a reserved word."
   ]
  },
  {
   "cell_type": "code",
   "execution_count": null,
   "id": "friendly-bradford",
   "metadata": {},
   "outputs": [],
   "source": [
    "questions[9].show()"
   ]
  },
  {
   "cell_type": "markdown",
   "id": "american-breath",
   "metadata": {},
   "source": [
    "<hr>\n",
    "\n",
    "### Submit"
   ]
  },
  {
   "cell_type": "code",
   "execution_count": null,
   "id": "under-fireplace",
   "metadata": {},
   "outputs": [],
   "source": [
    "submitter.submit(questions)"
   ]
  },
  {
   "cell_type": "code",
   "execution_count": null,
   "id": "found-local",
   "metadata": {},
   "outputs": [],
   "source": []
  }
 ],
 "metadata": {
  "kernelspec": {
   "display_name": "Python 3 (ipykernel)",
   "language": "python",
   "name": "python3"
  },
  "language_info": {
   "codemirror_mode": {
    "name": "ipython",
    "version": 3
   },
   "file_extension": ".py",
   "mimetype": "text/x-python",
   "name": "python",
   "nbconvert_exporter": "python",
   "pygments_lexer": "ipython3",
   "version": "3.8.10"
  }
 },
 "nbformat": 4,
 "nbformat_minor": 5
}
