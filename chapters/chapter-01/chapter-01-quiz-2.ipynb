{
 "cells": [
  {
   "cell_type": "markdown",
   "id": "5ca83fde-0092-46f7-8977-355dc8456ee8",
   "metadata": {},
   "source": [
    "**DO NOT EDIT THE CODE IN THIS FILE**"
   ]
  },
  {
   "cell_type": "code",
   "execution_count": null,
   "id": "ba11db14-98dd-48c1-ae6e-88632382ae78",
   "metadata": {},
   "outputs": [],
   "source": [
    "%reset -f\n",
    "\n",
    "from sys import path\n",
    "path.append(\"../../\")\n",
    "\n",
    "from helpers.submitters import QuizSubmitter\n",
    "from helpers.widgets import MyCheckBoxes, MyRadioButtons\n",
    "\n",
    "questions = [\n",
    "    MyRadioButtons(2),\n",
    "    MyCheckBoxes(5),\n",
    "    MyRadioButtons(2),\n",
    "    MyRadioButtons(4),\n",
    "    MyCheckBoxes(4),\n",
    "    MyCheckBoxes(4),\n",
    "    MyRadioButtons(2),\n",
    "    MyRadioButtons(3),\n",
    "    MyRadioButtons(4),\n",
    "    MyRadioButtons(4),\n",
    "]\n",
    "\n",
    "submitter = QuizSubmitter(\"01.2\")"
   ]
  },
  {
   "cell_type": "markdown",
   "id": "4c3e0c8e-1cf7-45c6-9bc3-bf02540780a5",
   "metadata": {},
   "source": [
    "<hr>\n",
    "\n",
    "### Question 0\n",
    "\n",
    "Understanding text from a piece of paper is not easy for a computer, but finding the most used word is.\n",
    "\n",
    "1. True.\n",
    "2. False."
   ]
  },
  {
   "cell_type": "code",
   "execution_count": null,
   "id": "aa8ec255-3c17-4c87-a15c-981fc7c05443",
   "metadata": {},
   "outputs": [],
   "source": [
    "questions[0].show()"
   ]
  },
  {
   "cell_type": "markdown",
   "id": "d0d4ed10-bfe2-44a1-87b6-a4cf5227f40b",
   "metadata": {},
   "source": [
    "<hr>\n",
    "\n",
    "### Question 1\n",
    "\n",
    "Check all that apply.\n",
    "\n",
    "1. The information stored in memory vanishes when the computer is turned off.\n",
    "2. Memory devices are cheaper than storage devices.\n",
    "3. Memory is faster than storage.\n",
    "4. Storage devices are cheaper than memory devices.\n",
    "5. The information stored in storage vanishes when the computer is turned off."
   ]
  },
  {
   "cell_type": "code",
   "execution_count": null,
   "id": "107d14bc-6f89-416f-aa49-8bfa4645b43c",
   "metadata": {},
   "outputs": [],
   "source": [
    "questions[1].show()"
   ]
  },
  {
   "cell_type": "markdown",
   "id": "02e66310-50e9-42eb-8daf-5e907f15dfa6",
   "metadata": {},
   "source": [
    "<hr>\n",
    "\n",
    "### Question 2\n",
    "\n",
    "Once you understand the general concepts of programming, jumping from one language to another should be relatively easy.\n",
    "\n",
    "1. True.\n",
    "2. False."
   ]
  },
  {
   "cell_type": "code",
   "execution_count": null,
   "id": "5ab5fd2f-f44a-4c74-bb61-e8d7139b0bc1",
   "metadata": {},
   "outputs": [],
   "source": [
    "questions[2].show()"
   ]
  },
  {
   "cell_type": "markdown",
   "id": "504bab46-3404-4634-9e05-a8d6560013bb",
   "metadata": {},
   "source": [
    "<hr>\n",
    "\n",
    "### Question 3\n",
    "\n",
    "How to print `Hello, world!` in Python 3?\n",
    "\n",
    "1. `print \"Hello, world!\"`\n",
    "2. `cout << \"Hello, world!\";`\n",
    "3. `print(\"Hello, world!\")`\n",
    "4. `console.log(\"Hello, world!\")`"
   ]
  },
  {
   "cell_type": "code",
   "execution_count": null,
   "id": "564110c6-6e3d-426c-9664-c9d3353ab6fa",
   "metadata": {},
   "outputs": [],
   "source": [
    "questions[3].show()"
   ]
  },
  {
   "cell_type": "markdown",
   "id": "f87c60db-61ed-463a-9087-60a7c29c6c85",
   "metadata": {},
   "source": [
    "<hr>\n",
    "\n",
    "### Question 4\n",
    "\n",
    "Check all that apply.\n",
    "\n",
    "1. Humans generally write programs using high-level languages.\n",
    "2. A high-level language is one that is understandable by computers.\n",
    "3. To convert source code into machine code, we use either a compiler or an interpreter.\n",
    "4. Only interpreters can be used to convert a program written in a high-level language into machine code."
   ]
  },
  {
   "cell_type": "code",
   "execution_count": null,
   "id": "1c363d2d-1053-4917-9b92-9c034d7bd8f3",
   "metadata": {},
   "outputs": [],
   "source": [
    "questions[4].show()"
   ]
  },
  {
   "cell_type": "markdown",
   "id": "e0bdd8e1-fa29-462b-9fbe-e4cd7b6d1c82",
   "metadata": {},
   "source": [
    "<hr>\n",
    "\n",
    "### Question 5\n",
    "\n",
    "Check all that apply.\n",
    "\n",
    "1. Compilers scan the whole program in one go.\n",
    "2. Interpreters scan the whole program in one go.\n",
    "3. Compilers translate program one statement at a time.\n",
    "4. Interpreters translate program one statement at a time."
   ]
  },
  {
   "cell_type": "code",
   "execution_count": null,
   "id": "c959e38d-ecb2-4f35-a62e-2303a1dd5643",
   "metadata": {},
   "outputs": [],
   "source": [
    "questions[5].show()"
   ]
  },
  {
   "cell_type": "markdown",
   "id": "9e75cac8-c9b1-458f-8e65-acb71fd72330",
   "metadata": {},
   "source": [
    "<hr>\n",
    "\n",
    "### Question 6\n",
    "\n",
    "Is assembly language a low-level programming language?\n",
    "\n",
    "1. Yes.\n",
    "2. No."
   ]
  },
  {
   "cell_type": "code",
   "execution_count": null,
   "id": "77323045-c0f4-42c6-a963-f83ce2a2f461",
   "metadata": {},
   "outputs": [],
   "source": [
    "questions[6].show()"
   ]
  },
  {
   "cell_type": "markdown",
   "id": "5d0a6410-7160-4cf0-a28e-ab1f34ab2fb0",
   "metadata": {},
   "source": [
    "<hr>\n",
    "\n",
    "### Question 7\n",
    "\n",
    "What types of errors are easiest to detect?\n",
    "\n",
    "1. Logic errors\n",
    "2. Syntax errors\n",
    "3. Semantic errors"
   ]
  },
  {
   "cell_type": "code",
   "execution_count": null,
   "id": "3b222231-c114-4672-9478-41a1042b2b88",
   "metadata": {},
   "outputs": [],
   "source": [
    "questions[7].show()"
   ]
  },
  {
   "cell_type": "markdown",
   "id": "4345acdc-160f-4c15-a77a-aea6912ecd28",
   "metadata": {},
   "source": [
    "<hr>\n",
    "\n",
    "### Question 8\n",
    "\n",
    "How to run the `app.py` Python file? \n",
    "\n",
    "1. `node app.py`\n",
    "2. `cat app.py`\n",
    "3. `pip app.py`\n",
    "4. `python app.py`"
   ]
  },
  {
   "cell_type": "code",
   "execution_count": null,
   "id": "47d8cfb3-cd8b-49cc-869d-eea95a93da34",
   "metadata": {},
   "outputs": [],
   "source": [
    "questions[8].show()"
   ]
  },
  {
   "cell_type": "markdown",
   "id": "f297a2ed-9099-4a0f-98d9-04dfebbe4f05",
   "metadata": {},
   "source": [
    "<hr>\n",
    "\n",
    "### Question 9\n",
    "\n",
    "What will the following program print out:\n",
    "\n",
    "```python\n",
    "a = 9\n",
    "a = a * 3\n",
    "print(a)\n",
    "```\n",
    "\n",
    "1. `3`\n",
    "2. `9`\n",
    "3. `27`\n",
    "4. `a`"
   ]
  },
  {
   "cell_type": "code",
   "execution_count": null,
   "id": "08dc719a-52bc-46a3-bf3e-cc2e64975dc3",
   "metadata": {},
   "outputs": [],
   "source": [
    "questions[9].show()"
   ]
  },
  {
   "cell_type": "markdown",
   "id": "0bde1238-089d-478f-a4a9-8bb6f869e934",
   "metadata": {},
   "source": [
    "<hr>\n",
    "\n",
    "### Submit"
   ]
  },
  {
   "cell_type": "code",
   "execution_count": null,
   "id": "48f2e1fc-d6eb-4bcc-b927-5167d3b28901",
   "metadata": {},
   "outputs": [],
   "source": [
    "submitter.submit(questions)"
   ]
  },
  {
   "cell_type": "code",
   "execution_count": null,
   "id": "06562c40-92dd-4f2f-ab11-5cfb8d428ae9",
   "metadata": {},
   "outputs": [],
   "source": []
  }
 ],
 "metadata": {
  "kernelspec": {
   "display_name": "Python 3",
   "language": "python",
   "name": "python3"
  },
  "language_info": {
   "codemirror_mode": {
    "name": "ipython",
    "version": 3
   },
   "file_extension": ".py",
   "mimetype": "text/x-python",
   "name": "python",
   "nbconvert_exporter": "python",
   "pygments_lexer": "ipython3",
   "version": "3.8.10"
  }
 },
 "nbformat": 4,
 "nbformat_minor": 5
}
