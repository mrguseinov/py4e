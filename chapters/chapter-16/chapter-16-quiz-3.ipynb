{
 "cells": [
  {
   "cell_type": "markdown",
   "id": "brutal-wellington",
   "metadata": {},
   "source": [
    "**DO NOT EDIT THE CODE IN THIS FILE**"
   ]
  },
  {
   "cell_type": "code",
   "execution_count": null,
   "id": "medieval-trustee",
   "metadata": {},
   "outputs": [],
   "source": [
    "%reset -f\n",
    "\n",
    "from sys import path\n",
    "path.append(\"../../\")\n",
    "\n",
    "from helpers.submitters import QuizSubmitter\n",
    "from helpers.widgets import MyRadioButtons\n",
    "\n",
    "questions = [MyRadioButtons(4) for _ in range(10)]\n",
    "questions[4] = MyRadioButtons(5)\n",
    "questions[6] = MyRadioButtons(5)\n",
    "questions[7] = MyRadioButtons(3)\n",
    "\n",
    "submitter = QuizSubmitter(\"16.3\")"
   ]
  },
  {
   "cell_type": "markdown",
   "id": "fa1f9a15-7b71-4af8-93b6-cc987a3c6d1b",
   "metadata": {},
   "source": [
    "<hr>\n",
    "\n",
    "### Question 0\n",
    "\n",
    "Which of the following is **not** a good synonym for \"class\" in Python?\n",
    "\n",
    "1. Direction\n",
    "2. Blueprint\n",
    "3. Template\n",
    "4. Pattern"
   ]
  },
  {
   "cell_type": "code",
   "execution_count": null,
   "id": "e6932ce1-26a3-4db7-9d2a-aa0f7385f9b1",
   "metadata": {},
   "outputs": [],
   "source": [
    "questions[0].show()"
   ]
  },
  {
   "cell_type": "markdown",
   "id": "d27012a2-2b68-44f3-b3bc-ed95b23c6c35",
   "metadata": {},
   "source": [
    "<hr>\n",
    "\n",
    "### Question 1\n",
    "\n",
    "What is `self` typically used for in a Python method within a class?\n",
    "\n",
    "1. To specify the number of method parameters.\n",
    "2. To refer to the instance on which the method is being called.\n",
    "3. To set the residual value in an expression where the method is used.\n",
    "4. To terminate a loop within a method."
   ]
  },
  {
   "cell_type": "code",
   "execution_count": null,
   "id": "cb763e78-cd5d-4dd2-822f-732e273e9c14",
   "metadata": {},
   "outputs": [],
   "source": [
    "questions[1].show()"
   ]
  },
  {
   "cell_type": "markdown",
   "id": "49b29855-dea8-4f1c-a43c-ccc902488f00",
   "metadata": {},
   "source": [
    "<hr>\n",
    "\n",
    "### Question 2\n",
    "\n",
    "How is a Python socket different than a Python file object?\n",
    "\n",
    "1. A file is seekable, while a socket is not.\n",
    "2. Opening a socket will never fail, while opening a file can fail.\n",
    "3. The socket does not read all of the data when it is opened, while a file does.\n",
    "4. A file can only be written and read as a stream, not in random access fashion as a socket."
   ]
  },
  {
   "cell_type": "code",
   "execution_count": null,
   "id": "5c76ffa9-18bb-459a-a863-6949a4813acc",
   "metadata": {},
   "outputs": [],
   "source": [
    "questions[2].show()"
   ]
  },
  {
   "cell_type": "markdown",
   "id": "af50a240-7b2b-4227-9d77-93c38d395923",
   "metadata": {},
   "source": [
    "<hr>\n",
    "\n",
    "### Question 3\n",
    "\n",
    "In the following XML, what is `type`?\n",
    "\n",
    "```xml\n",
    "<person>\n",
    "    <name>Chuck</name>\n",
    "    <phone type=\"intl\">\n",
    "        +1 734 303 4456\n",
    "    </phone>\n",
    "    <email hide=\"yes\"/>\n",
    "</person>\n",
    "```\n",
    "\n",
    "1. Element\n",
    "2. Value\n",
    "3. Tag\n",
    "4. Attribute"
   ]
  },
  {
   "cell_type": "code",
   "execution_count": null,
   "id": "a20267d3-7565-4ce7-a473-6c10e70e5b79",
   "metadata": {},
   "outputs": [],
   "source": [
    "questions[3].show()"
   ]
  },
  {
   "cell_type": "markdown",
   "id": "d8e17c85-2a87-4a27-9e7b-1d91c4b0a807",
   "metadata": {},
   "source": [
    "<hr>\n",
    "\n",
    "### Question 4\n",
    "\n",
    "Which programming language serves as the basis for the JSON syntax?\n",
    "\n",
    "1. Python\n",
    "2. PHP\n",
    "3. JavaScript\n",
    "4. Java\n",
    "5. Scala"
   ]
  },
  {
   "cell_type": "code",
   "execution_count": null,
   "id": "4007ee15-f3d5-46ba-a8c7-9a7c55dc8f87",
   "metadata": {},
   "outputs": [],
   "source": [
    "questions[4].show()"
   ]
  },
  {
   "cell_type": "markdown",
   "id": "bb31419d-53bb-481d-a707-e25958de2b83",
   "metadata": {},
   "source": [
    "<hr>\n",
    "\n",
    "### Question 5\n",
    "\n",
    "What will the following code print out?\n",
    "\n",
    "```python\n",
    "hours = 100\n",
    "rate = 1.5\n",
    "print(type(hours))\n",
    "```\n",
    "\n",
    "1. `100`\n",
    "2. `hours`\n",
    "3. `<class 'int'>`\n",
    "4. `type`"
   ]
  },
  {
   "cell_type": "code",
   "execution_count": null,
   "id": "e7f63821-df89-4f37-bb09-e3693a196533",
   "metadata": {},
   "outputs": [],
   "source": [
    "questions[5].show()"
   ]
  },
  {
   "cell_type": "markdown",
   "id": "d8e02967-fbcf-4480-9d1c-2a80d36d3b63",
   "metadata": {},
   "source": [
    "<hr>\n",
    "\n",
    "### Question 6\n",
    "\n",
    "Which line actually reads the data?\n",
    "\n",
    "```python\n",
    "(1)  import socket\n",
    "\n",
    "(2)  with socket.socket(socket.AF_INET, socket.SOCK_STREAM) as sock:\n",
    "(3)      sock.connect((\"data.pr4e.org\", 80))\n",
    "(4)      sock.send(\"GET http://data.pr4e.org/romeo.txt HTTP/1.0\\r\\n\\r\\n\".encode())\n",
    "  \n",
    "(5)      while True:\n",
    "(6)          data = sock.recv(512)\n",
    "(7)          if len(data) < 1:\n",
    "(8)              break\n",
    "(9)          print(data.decode(), end=\"\")\n",
    "```\n",
    "\n",
    "1. `2`\n",
    "2. `3`\n",
    "3. `4`\n",
    "4. `6`\n",
    "5. `9`"
   ]
  },
  {
   "cell_type": "code",
   "execution_count": null,
   "id": "c8262a33-45d1-4229-97d1-dc9dd5430f1b",
   "metadata": {},
   "outputs": [],
   "source": [
    "questions[6].show()"
   ]
  },
  {
   "cell_type": "markdown",
   "id": "2f135f2f-d07d-4d1b-afe7-00eb099ecaf4",
   "metadata": {},
   "source": [
    "<hr>\n",
    "\n",
    "### Question 7\n",
    "\n",
    "What is wrong with using a bare `except`?\n",
    "\n",
    "1. Bare `except` catches all exceptions, which is probably not what you wanted.\n",
    "2. You cannot have a bare `except` in Python.\n",
    "3. Nothing wrong. You can use bare `except` without any concerns."
   ]
  },
  {
   "cell_type": "code",
   "execution_count": null,
   "id": "b187e4a6-90cb-48aa-a270-045f2b478b2b",
   "metadata": {},
   "outputs": [],
   "source": [
    "questions[7].show()"
   ]
  },
  {
   "cell_type": "markdown",
   "id": "e107c847-3835-4fd4-9597-ed83ab4f561d",
   "metadata": {},
   "source": [
    "<hr>\n",
    "\n",
    "### Question 8\n",
    "\n",
    "What will the following code print out?\n",
    "\n",
    "```python\n",
    "a = \"\"\n",
    "b = True\n",
    "c = 1.5\n",
    "c = a or b or c and a\n",
    "print(c)\n",
    "```\n",
    "\n",
    "1. `True`\n",
    "2. `\"\"`\n",
    "3. `1.5`\n",
    "4. `False`"
   ]
  },
  {
   "cell_type": "code",
   "execution_count": null,
   "id": "91c27446-5a40-4d8b-a7d9-bd072d2c618c",
   "metadata": {},
   "outputs": [],
   "source": [
    "questions[8].show()"
   ]
  },
  {
   "cell_type": "markdown",
   "id": "a6a59e12-8838-44bc-886e-09d5cf56062a",
   "metadata": {},
   "source": [
    "<hr>\n",
    "\n",
    "### Question 9\n",
    "\n",
    "Do functions without the `return` statement return anything?\n",
    "\n",
    "1. They don't return.\n",
    "2. They return `None`.\n",
    "3. You cannot write a function without the `return` statement.\n",
    "4. They return `0`."
   ]
  },
  {
   "cell_type": "code",
   "execution_count": null,
   "id": "d32dec49-fe31-4b3c-8d8b-e3439b3e1225",
   "metadata": {},
   "outputs": [],
   "source": [
    "questions[9].show()"
   ]
  },
  {
   "cell_type": "markdown",
   "id": "offshore-cleaners",
   "metadata": {},
   "source": [
    "<hr>\n",
    "\n",
    "### Submit"
   ]
  },
  {
   "cell_type": "code",
   "execution_count": null,
   "id": "formal-mortality",
   "metadata": {},
   "outputs": [],
   "source": [
    "submitter.submit(questions)"
   ]
  },
  {
   "cell_type": "code",
   "execution_count": null,
   "id": "surprising-chest",
   "metadata": {},
   "outputs": [],
   "source": []
  }
 ],
 "metadata": {
  "kernelspec": {
   "display_name": "Python 3",
   "language": "python",
   "name": "python3"
  },
  "language_info": {
   "codemirror_mode": {
    "name": "ipython",
    "version": 3
   },
   "file_extension": ".py",
   "mimetype": "text/x-python",
   "name": "python",
   "nbconvert_exporter": "python",
   "pygments_lexer": "ipython3",
   "version": "3.8.10"
  }
 },
 "nbformat": 4,
 "nbformat_minor": 5
}
