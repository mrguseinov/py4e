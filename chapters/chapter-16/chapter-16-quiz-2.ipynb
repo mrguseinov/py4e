{
 "cells": [
  {
   "cell_type": "markdown",
   "id": "brutal-wellington",
   "metadata": {},
   "source": [
    "**DO NOT EDIT THE CODE IN THIS FILE**"
   ]
  },
  {
   "cell_type": "code",
   "execution_count": null,
   "id": "medieval-trustee",
   "metadata": {},
   "outputs": [],
   "source": [
    "%reset -f\n",
    "\n",
    "from sys import path\n",
    "path.append(\"../../\")\n",
    "\n",
    "from helpers.submitters import QuizSubmitter\n",
    "from helpers.widgets import MyRadioButtons\n",
    "\n",
    "questions = [MyRadioButtons(5) for _ in range(10)]\n",
    "questions[0] = MyRadioButtons(4)\n",
    "questions[1] = MyRadioButtons(4)\n",
    "questions[2] = MyRadioButtons(4)\n",
    "questions[3] = MyRadioButtons(4)\n",
    "questions[6] = MyRadioButtons(4)\n",
    "\n",
    "submitter = QuizSubmitter(\"16.2\")"
   ]
  },
  {
   "cell_type": "markdown",
   "id": "contrary-sussex",
   "metadata": {},
   "source": [
    "<hr>\n",
    "\n",
    "### Question 0\n",
    "\n",
    "Where is a variable such as `x = 123` stored when the program is running?\n",
    "\n",
    "1. RAM\n",
    "2. CPU\n",
    "3. HDD\n",
    "4. SSD"
   ]
  },
  {
   "cell_type": "code",
   "execution_count": null,
   "id": "lovely-office",
   "metadata": {},
   "outputs": [],
   "source": [
    "questions[0].show()"
   ]
  },
  {
   "cell_type": "markdown",
   "id": "3e1c08fe-bee6-4bf5-8f31-d3f17eb1f24c",
   "metadata": {},
   "source": [
    "<hr>\n",
    "\n",
    "### Question 1\n",
    "\n",
    "What is the primary use of the Python dictionary?\n",
    "\n",
    "1. To make sure that the definitions of the Python reserved words are available in different languages (French, Spanish, etc.).\n",
    "2. To store key–value pairs.\n",
    "3. To insure that all Python reserved words are properly spelled.\n",
    "4. To look up all of the methods which are available in a Python object."
   ]
  },
  {
   "cell_type": "code",
   "execution_count": null,
   "id": "351ad54c-1900-4f8e-8352-550c35f91ba7",
   "metadata": {},
   "outputs": [],
   "source": [
    "questions[1].show()"
   ]
  },
  {
   "cell_type": "markdown",
   "id": "2f9fdc4e-e401-4784-b2c4-8813136a8015",
   "metadata": {},
   "source": [
    "<hr>\n",
    "\n",
    "### Question 2\n",
    "\n",
    "What will the following code print out?\n",
    "\n",
    "```python\n",
    "stuff = [\"joseph\", \"sally\", \"walter\", \"tim\"]\n",
    "print(stuff[2])\n",
    "```\n",
    "\n",
    "1. `sally`\n",
    "2. `joseph`\n",
    "3. `walter`\n",
    "4. `tim`"
   ]
  },
  {
   "cell_type": "code",
   "execution_count": null,
   "id": "f5b4d272-00ef-4516-8d0d-51b53ea4eacf",
   "metadata": {},
   "outputs": [],
   "source": [
    "questions[2].show()"
   ]
  },
  {
   "cell_type": "markdown",
   "id": "a677d082-672f-4623-bd29-df211dd0509f",
   "metadata": {},
   "source": [
    "<hr>\n",
    "\n",
    "### Question 3\n",
    "\n",
    "What will the following code print out?\n",
    "\n",
    "```python\n",
    "def hello():\n",
    "    print(\"Hello\")\n",
    "    print(\"There\")\n",
    "\n",
    "x = 10\n",
    "x += 1\n",
    "```\n",
    "\n",
    "1. Nothing will be printed.\n",
    "2. `11`\n",
    "3. `x = 11`\n",
    "4. `Hello`<br>\n",
    "`There`<br>\n",
    "`11`"
   ]
  },
  {
   "cell_type": "code",
   "execution_count": null,
   "id": "adc8d2ff-0adc-4ec4-9997-3a60e27e14fa",
   "metadata": {},
   "outputs": [],
   "source": [
    "questions[3].show()"
   ]
  },
  {
   "cell_type": "markdown",
   "id": "4ba5e96d-1721-4e72-a747-7b6b7b6b9b64",
   "metadata": {},
   "source": [
    "<hr>\n",
    "\n",
    "### Question 4\n",
    "\n",
    "What will the following code print out?\n",
    "\n",
    "```python\n",
    "x = -1\n",
    "for value in [3, 41, 12, 9, 74, 15]:\n",
    "    if value > x:\n",
    "        x = value\n",
    "print(x)\n",
    "```\n",
    "\n",
    "1. `3`\n",
    "2. `74`\n",
    "3. `-1`\n",
    "4. `9`\n",
    "5. `15`"
   ]
  },
  {
   "cell_type": "code",
   "execution_count": null,
   "id": "416ffe7b-7a09-4bad-a55c-cbee4590fce1",
   "metadata": {},
   "outputs": [],
   "source": [
    "questions[4].show()"
   ]
  },
  {
   "cell_type": "markdown",
   "id": "b2591fbd-1f7b-453d-b549-62ad1f00e0c6",
   "metadata": {},
   "source": [
    "<hr>\n",
    "\n",
    "### Question 5\n",
    "\n",
    "What will the following code print out?\n",
    "\n",
    "```python\n",
    "total = 0\n",
    "for abc in range(5):\n",
    "    total += abc\n",
    "print(total)\n",
    "```\n",
    "\n",
    "1. `4`\n",
    "2. `10`\n",
    "3. `5`\n",
    "4. `16`\n",
    "5. `6`"
   ]
  },
  {
   "cell_type": "code",
   "execution_count": null,
   "id": "fb3f9b08-81da-49a3-90b5-5f8da839ce76",
   "metadata": {},
   "outputs": [],
   "source": [
    "questions[5].show()"
   ]
  },
  {
   "cell_type": "markdown",
   "id": "4a1d9e56-3db6-4583-809f-1abed9f96062",
   "metadata": {},
   "source": [
    "<hr>\n",
    "\n",
    "### Question 6\n",
    "\n",
    "The following code causes a traceback:\n",
    "\n",
    "```python\n",
    "(1)  a = \"123\"\n",
    "(2)  b = 456\n",
    "(3)  c = a + b\n",
    "(4)  print(c)\n",
    "```\n",
    "\n",
    "Which line fails?\n",
    "\n",
    "1. `3`\n",
    "2. `1`\n",
    "3. `2`\n",
    "4. `4`"
   ]
  },
  {
   "cell_type": "code",
   "execution_count": null,
   "id": "68ed6655-60c6-4ad2-bb82-ad061cdb14a8",
   "metadata": {},
   "outputs": [],
   "source": [
    "questions[6].show()"
   ]
  },
  {
   "cell_type": "markdown",
   "id": "128b3693-4229-4576-91bd-b71bed29cf0e",
   "metadata": {},
   "source": [
    "<hr>\n",
    "\n",
    "### Question 7\n",
    "\n",
    "In the following example, an error in `line3` causes a traceback if it were not in a `try/except` block.\n",
    "\n",
    "```python\n",
    "line1\n",
    "try:\n",
    "    line2\n",
    "    line3\n",
    "    line4\n",
    "except:\n",
    "    line5\n",
    "line6\n",
    "```\n",
    "\n",
    "What is the sequence of lines executed in this program?\n",
    "\n",
    "1. `line1, line2, line3, line6`\n",
    "2. `line1, line2, line3, line5, line6`\n",
    "3. `line1, line2, line3, line4, line5, line6`\n",
    "4. `line1, line4, line5, line6`\n",
    "5. `line1, line5, line6`"
   ]
  },
  {
   "cell_type": "code",
   "execution_count": null,
   "id": "870b9858-679e-401a-a302-9fc046d51173",
   "metadata": {},
   "outputs": [],
   "source": [
    "questions[7].show()"
   ]
  },
  {
   "cell_type": "markdown",
   "id": "d8fba743-0266-46c1-bf8a-64b54b0a634e",
   "metadata": {},
   "source": [
    "<hr>\n",
    "\n",
    "### Question 8\n",
    "\n",
    "What will the following code print out?\n",
    "\n",
    "```python\n",
    "abc = \"With three words\"\n",
    "stuff = abc.split()\n",
    "print(stuff)\n",
    "```\n",
    "\n",
    "1. `['With', 'three', 'words']`\n",
    "2. `['With three words']`\n",
    "3. `['With', 'three words']`\n",
    "4. `['w', 'i', 't', 'h']`\n",
    "5. `['With the', 'ee words']`"
   ]
  },
  {
   "cell_type": "code",
   "execution_count": null,
   "id": "0ee395a1-3b23-468f-a1f0-dbb1bb13e2f7",
   "metadata": {},
   "outputs": [],
   "source": [
    "questions[8].show()"
   ]
  },
  {
   "cell_type": "markdown",
   "id": "aa314805-089c-4791-967d-7414155d5696",
   "metadata": {},
   "source": [
    "<hr>\n",
    "\n",
    "### Question 9\n",
    "\n",
    "What will the following code print out?\n",
    "\n",
    "```python\n",
    "abc = \"With three words\"\n",
    "stuff = abc.split()\n",
    "print(len(stuff))\n",
    "```\n",
    "\n",
    "1. `3`\n",
    "2. `2`\n",
    "3. `14`\n",
    "4. `1`\n",
    "5. `16`"
   ]
  },
  {
   "cell_type": "code",
   "execution_count": null,
   "id": "65531cd9-7560-4d6a-a657-dc19ac83355c",
   "metadata": {},
   "outputs": [],
   "source": [
    "questions[9].show()"
   ]
  },
  {
   "cell_type": "markdown",
   "id": "offshore-cleaners",
   "metadata": {},
   "source": [
    "<hr>\n",
    "\n",
    "### Submit"
   ]
  },
  {
   "cell_type": "code",
   "execution_count": null,
   "id": "formal-mortality",
   "metadata": {},
   "outputs": [],
   "source": [
    "submitter.submit(questions)"
   ]
  },
  {
   "cell_type": "code",
   "execution_count": null,
   "id": "surprising-chest",
   "metadata": {},
   "outputs": [],
   "source": []
  }
 ],
 "metadata": {
  "kernelspec": {
   "display_name": "Python 3",
   "language": "python",
   "name": "python3"
  },
  "language_info": {
   "codemirror_mode": {
    "name": "ipython",
    "version": 3
   },
   "file_extension": ".py",
   "mimetype": "text/x-python",
   "name": "python",
   "nbconvert_exporter": "python",
   "pygments_lexer": "ipython3",
   "version": "3.8.10"
  }
 },
 "nbformat": 4,
 "nbformat_minor": 5
}
