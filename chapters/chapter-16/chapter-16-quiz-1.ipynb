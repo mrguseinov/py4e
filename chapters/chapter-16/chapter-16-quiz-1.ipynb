{
 "cells": [
  {
   "cell_type": "markdown",
   "id": "brutal-wellington",
   "metadata": {},
   "source": [
    "**DO NOT EDIT THE CODE IN THIS FILE**"
   ]
  },
  {
   "cell_type": "code",
   "execution_count": null,
   "id": "medieval-trustee",
   "metadata": {},
   "outputs": [],
   "source": [
    "%reset -f\n",
    "\n",
    "from sys import path\n",
    "path.append(\"../../\")\n",
    "\n",
    "from helpers.submitters import QuizSubmitter\n",
    "from helpers.widgets import MyRadioButtons\n",
    "\n",
    "questions = [MyRadioButtons(5) for i in range(25)]\n",
    "\n",
    "questions[5] = MyRadioButtons()\n",
    "questions[6] = MyRadioButtons()\n",
    "questions[11] = MyRadioButtons()\n",
    "questions[12] = MyRadioButtons()\n",
    "questions[13] = MyRadioButtons()\n",
    "questions[16] = MyRadioButtons()\n",
    "questions[20] = MyRadioButtons()\n",
    "questions[21] = MyRadioButtons()\n",
    "\n",
    "questions[22] = MyRadioButtons(3)\n",
    "\n",
    "submitter = QuizSubmitter(\"16.1\")"
   ]
  },
  {
   "cell_type": "markdown",
   "id": "ultimate-worth",
   "metadata": {},
   "source": [
    "<hr>\n",
    "\n",
    "### Question 0\n",
    "\n",
    "What is the most common Unicode encoding when moving data between systems?\n",
    "\n",
    "1. UTF-8\n",
    "2. UTF-64\n",
    "3. UTF-32\n",
    "4. UTF-16\n",
    "5. UTF-128"
   ]
  },
  {
   "cell_type": "code",
   "execution_count": null,
   "id": "original-teacher",
   "metadata": {},
   "outputs": [],
   "source": [
    "questions[0].show()"
   ]
  },
  {
   "cell_type": "markdown",
   "id": "representative-framework",
   "metadata": {},
   "source": [
    "<hr>\n",
    "\n",
    "### Question 1\n",
    "\n",
    "What is the decimal (Base-10) numeric value for the upper case letter `G` in the ASCII character set?\n",
    "\n",
    "1. `7`\n",
    "2. `2048`\n",
    "3. `1771`\n",
    "4. `17`\n",
    "5. `71`"
   ]
  },
  {
   "cell_type": "code",
   "execution_count": null,
   "id": "liable-table",
   "metadata": {},
   "outputs": [],
   "source": [
    "questions[1].show()"
   ]
  },
  {
   "cell_type": "markdown",
   "id": "mature-ceiling",
   "metadata": {},
   "source": [
    "<hr>\n",
    "\n",
    "### Question 2\n",
    "\n",
    "What word does the following sequence of numbers represent in ASCII:\n",
    "\n",
    "```\n",
    "108, 105, 115, 116\n",
    "```\n",
    "\n",
    "1. lost\n",
    "2. fuss\n",
    "3. list\n",
    "4. open\n",
    "5. http"
   ]
  },
  {
   "cell_type": "code",
   "execution_count": null,
   "id": "continuous-observation",
   "metadata": {},
   "outputs": [],
   "source": [
    "questions[2].show()"
   ]
  },
  {
   "cell_type": "markdown",
   "id": "selected-magnitude",
   "metadata": {},
   "source": [
    "<hr>\n",
    "\n",
    "### Question 3\n",
    "\n",
    "How are strings stored internally in Python 3?\n",
    "\n",
    "1. Latin\n",
    "2. UTF-16\n",
    "3. ASCII (American Standard Code for Information Interchange)\n",
    "4. EBCDIC (Extended Binary Coded Decimal Interchange Code)\n",
    "5. Unicode"
   ]
  },
  {
   "cell_type": "code",
   "execution_count": null,
   "id": "incident-complaint",
   "metadata": {},
   "outputs": [],
   "source": [
    "questions[3].show()"
   ]
  },
  {
   "cell_type": "markdown",
   "id": "persistent-racing",
   "metadata": {},
   "source": [
    "<hr>\n",
    "\n",
    "### Question 4\n",
    "\n",
    "When reading data across the network (i.e., from a URL) in Python 3, what method must be used to convert it to the internal format used by strings?\n",
    "\n",
    "1. `encode()`\n",
    "2. `more()`\n",
    "3. `decode()`\n",
    "4. `msub()`\n",
    "5. `convert()`"
   ]
  },
  {
   "cell_type": "code",
   "execution_count": null,
   "id": "designing-clothing",
   "metadata": {},
   "outputs": [],
   "source": [
    "questions[4].show()"
   ]
  },
  {
   "cell_type": "markdown",
   "id": "widespread-basis",
   "metadata": {},
   "source": [
    "<hr>\n",
    "\n",
    "### Question 5\n",
    "\n",
    "Which of the following lines will never print out regardless of the value of `x`?\n",
    "\n",
    "```python\n",
    "if x < 2:\n",
    "    print(\"Below 2\")\n",
    "elif x < 0:\n",
    "    print(\"Negative\")\n",
    "else:\n",
    "    print(\"Something else\")\n",
    "```\n",
    "\n",
    "1. `Something else`\n",
    "2. `Below 2`\n",
    "3. `Negative`\n",
    "4. All the lines will print out"
   ]
  },
  {
   "cell_type": "code",
   "execution_count": null,
   "id": "contained-chamber",
   "metadata": {},
   "outputs": [],
   "source": [
    "questions[5].show()"
   ]
  },
  {
   "cell_type": "markdown",
   "id": "hidden-happiness",
   "metadata": {},
   "source": [
    "<hr>\n",
    "\n",
    "### Question 6\n",
    "\n",
    "Which of the following lines will never print out regardless of the value of `x`?\n",
    "\n",
    "```python\n",
    "if x < 2:\n",
    "    print(\"Below 2\")\n",
    "elif x < 20:\n",
    "    print(\"Below 20\")\n",
    "elif x < 10:\n",
    "    print(\"Below 10\")\n",
    "else:\n",
    "    print(\"Something else\")\n",
    "```\n",
    "\n",
    "1. `Below 10`\n",
    "2. `Below 20`\n",
    "3. `Something else`\n",
    "4. `Below 2`"
   ]
  },
  {
   "cell_type": "code",
   "execution_count": null,
   "id": "prepared-green",
   "metadata": {},
   "outputs": [],
   "source": [
    "questions[6].show()"
   ]
  },
  {
   "cell_type": "markdown",
   "id": "racial-shame",
   "metadata": {},
   "source": [
    "<hr>\n",
    "\n",
    "### Question 7\n",
    "\n",
    "What would the following Python code sequence print out?\n",
    "\n",
    "```python\n",
    "zap = \"hello there bob\"\n",
    "print(zap[4])\n",
    "```\n",
    "\n",
    "1. `o`\n",
    "2. `l`\n",
    "3. You would get an out-of-range error and the program would fail\n",
    "4. `hello`\n",
    "5. `zap`"
   ]
  },
  {
   "cell_type": "code",
   "execution_count": null,
   "id": "serious-alabama",
   "metadata": {},
   "outputs": [],
   "source": [
    "questions[7].show()"
   ]
  },
  {
   "cell_type": "markdown",
   "id": "sitting-tamil",
   "metadata": {},
   "source": [
    "<hr>\n",
    "\n",
    "### Question 8\n",
    "\n",
    "Which of the following lines of Python code contains a syntax error?\n",
    "\n",
    "```python\n",
    "(1)  x = 12\n",
    "(2)  if x < 5:\n",
    "(3)  print(\"smaller\")\n",
    "(4)  else:\n",
    "(5)      print(\"bigger\")\n",
    "(6)  print(\"all done\")\n",
    "```\n",
    "\n",
    "1. `3`\n",
    "2. `2`\n",
    "3. `6`\n",
    "4. `4`\n",
    "5. `5`"
   ]
  },
  {
   "cell_type": "code",
   "execution_count": null,
   "id": "republican-abuse",
   "metadata": {},
   "outputs": [],
   "source": [
    "questions[8].show()"
   ]
  },
  {
   "cell_type": "markdown",
   "id": "married-python",
   "metadata": {},
   "source": [
    "<hr>\n",
    "\n",
    "### Question 9\n",
    "\n",
    "What will the following Python program print out?\n",
    "\n",
    "```python\n",
    "def fred():\n",
    "    print(\"Zap\", end=\" \")\n",
    "\n",
    "def jane():\n",
    "    print(\"ABC\", end=\" \")\n",
    "\n",
    "jane()\n",
    "fred()\n",
    "jane()\n",
    "```\n",
    "\n",
    "1. `ABC Zap ABC`\n",
    "2. `Zap Zap Zap`\n",
    "3. `Zap ABC jane fred jane`\n",
    "4. `ABC Zap jane`\n",
    "5. `Zap ABC Zap`"
   ]
  },
  {
   "cell_type": "code",
   "execution_count": null,
   "id": "alert-archive",
   "metadata": {},
   "outputs": [],
   "source": [
    "questions[9].show()"
   ]
  },
  {
   "cell_type": "markdown",
   "id": "contrary-sussex",
   "metadata": {},
   "source": [
    "<hr>\n",
    "\n",
    "### Question 10\n",
    "\n",
    "Where in the computer is a variable such as `x` stored?\n",
    "\n",
    "```python\n",
    "x = 123\n",
    "```\n",
    "\n",
    "1. Main memory\n",
    "2. Output devices\n",
    "3. Central processing unit (CPU)\n",
    "4. Secondary memory\n",
    "5. Input devices"
   ]
  },
  {
   "cell_type": "code",
   "execution_count": null,
   "id": "lovely-office",
   "metadata": {},
   "outputs": [],
   "source": [
    "questions[10].show()"
   ]
  },
  {
   "cell_type": "markdown",
   "id": "3e1c08fe-bee6-4bf5-8f31-d3f17eb1f24c",
   "metadata": {},
   "source": [
    "<hr>\n",
    "\n",
    "### Question 11\n",
    "\n",
    "What is the primary use of the Python dictionary?\n",
    "\n",
    "1. To make sure that the definitions of the Python reserved words are available in different languages (French, Spanish, etc.)\n",
    "2. To store key–value pairs\n",
    "3. To insure that all Python reserved words are properly spelled\n",
    "4. To look up all of the methods which are available in a Python object"
   ]
  },
  {
   "cell_type": "code",
   "execution_count": null,
   "id": "351ad54c-1900-4f8e-8352-550c35f91ba7",
   "metadata": {},
   "outputs": [],
   "source": [
    "questions[11].show()"
   ]
  },
  {
   "cell_type": "markdown",
   "id": "2f9fdc4e-e401-4784-b2c4-8813136a8015",
   "metadata": {},
   "source": [
    "<hr>\n",
    "\n",
    "### Question 12\n",
    "\n",
    "What does the following Python code print out?\n",
    "\n",
    "```python\n",
    "stuff = [\"joseph\", \"sally\", \"walter\", \"tim\"]\n",
    "print(stuff[2])\n",
    "```\n",
    "\n",
    "1. `sally`\n",
    "2. `joseph`\n",
    "3. `walter`\n",
    "4. `tim`"
   ]
  },
  {
   "cell_type": "code",
   "execution_count": null,
   "id": "f5b4d272-00ef-4516-8d0d-51b53ea4eacf",
   "metadata": {},
   "outputs": [],
   "source": [
    "questions[12].show()"
   ]
  },
  {
   "cell_type": "markdown",
   "id": "a677d082-672f-4623-bd29-df211dd0509f",
   "metadata": {},
   "source": [
    "<hr>\n",
    "\n",
    "### Question 13\n",
    "\n",
    "What will the following Python program print out?\n",
    "\n",
    "```python\n",
    "def hello():\n",
    "    print(\"Hello\")\n",
    "    print(\"There\")\n",
    "\n",
    "x = 10\n",
    "x += 1\n",
    "```\n",
    "\n",
    "1. Nothing will be printed\n",
    "2. `11`\n",
    "3. `x = 11`\n",
    "4. `Hello`<br>\n",
    "`There`<br>\n",
    "`11`"
   ]
  },
  {
   "cell_type": "code",
   "execution_count": null,
   "id": "adc8d2ff-0adc-4ec4-9997-3a60e27e14fa",
   "metadata": {},
   "outputs": [],
   "source": [
    "questions[13].show()"
   ]
  },
  {
   "cell_type": "markdown",
   "id": "4ba5e96d-1721-4e72-a747-7b6b7b6b9b64",
   "metadata": {},
   "source": [
    "<hr>\n",
    "\n",
    "### Question 14\n",
    "\n",
    "What will the following Python program print out?\n",
    "\n",
    "```python\n",
    "x = -1\n",
    "for value in [3, 41, 12, 9, 74, 15]:\n",
    "    if value > x:\n",
    "        x = value\n",
    "print(x)\n",
    "```\n",
    "\n",
    "1. `3`\n",
    "2. `74`\n",
    "3. `-1`\n",
    "4. `9`\n",
    "5. `15`"
   ]
  },
  {
   "cell_type": "code",
   "execution_count": null,
   "id": "416ffe7b-7a09-4bad-a55c-cbee4590fce1",
   "metadata": {},
   "outputs": [],
   "source": [
    "questions[14].show()"
   ]
  },
  {
   "cell_type": "markdown",
   "id": "b2591fbd-1f7b-453d-b549-62ad1f00e0c6",
   "metadata": {},
   "source": [
    "<hr>\n",
    "\n",
    "### Question 15\n",
    "\n",
    "What will the following Python program print out?\n",
    "\n",
    "```python\n",
    "total = 0\n",
    "for abc in range(5):\n",
    "    total += abc\n",
    "print(total)\n",
    "```\n",
    "\n",
    "1. `4`\n",
    "2. `10`\n",
    "3. `5`\n",
    "4. `16`\n",
    "5. `6`"
   ]
  },
  {
   "cell_type": "code",
   "execution_count": null,
   "id": "fb3f9b08-81da-49a3-90b5-5f8da839ce76",
   "metadata": {},
   "outputs": [],
   "source": [
    "questions[15].show()"
   ]
  },
  {
   "cell_type": "markdown",
   "id": "4a1d9e56-3db6-4583-809f-1abed9f96062",
   "metadata": {},
   "source": [
    "<hr>\n",
    "\n",
    "### Question 16\n",
    "\n",
    "The following Python code causes a traceback:\n",
    "\n",
    "```python\n",
    "(1)  a = \"123\"\n",
    "(2)  b = 456\n",
    "(3)  c = a + b\n",
    "(4)  print(c)\n",
    "```\n",
    "\n",
    "Which line fails?\n",
    "\n",
    "1. `3`\n",
    "2. `1`\n",
    "3. `2`\n",
    "4. `4`"
   ]
  },
  {
   "cell_type": "code",
   "execution_count": null,
   "id": "68ed6655-60c6-4ad2-bb82-ad061cdb14a8",
   "metadata": {},
   "outputs": [],
   "source": [
    "questions[16].show()"
   ]
  },
  {
   "cell_type": "markdown",
   "id": "128b3693-4229-4576-91bd-b71bed29cf0e",
   "metadata": {},
   "source": [
    "<hr>\n",
    "\n",
    "### Question 17\n",
    "\n",
    "In the following example, an error in `line3` causes a traceback if it were not in a `try/except` block.\n",
    "\n",
    "```python\n",
    "line1\n",
    "try:\n",
    "    line2\n",
    "    line3\n",
    "    line4\n",
    "except:\n",
    "    line5\n",
    "line6\n",
    "```\n",
    "\n",
    "What is the sequence of lines executed in this program?\n",
    "\n",
    "1. `line1, line2, line3, line6`\n",
    "2. `line1, line2, line3, line5, line6`\n",
    "3. `line1, line2, line3, line4, line5, line6`\n",
    "4. `line1, line4, line5, line6`\n",
    "5. `line1, line5, line6`"
   ]
  },
  {
   "cell_type": "code",
   "execution_count": null,
   "id": "870b9858-679e-401a-a302-9fc046d51173",
   "metadata": {},
   "outputs": [],
   "source": [
    "questions[17].show()"
   ]
  },
  {
   "cell_type": "markdown",
   "id": "d8fba743-0266-46c1-bf8a-64b54b0a634e",
   "metadata": {},
   "source": [
    "<hr>\n",
    "\n",
    "### Question 18\n",
    "\n",
    "What would the following Python code print out?\n",
    "\n",
    "```python\n",
    "abc = \"With three words\"\n",
    "stuff = abc.split()\n",
    "print(stuff)\n",
    "```\n",
    "\n",
    "1. `['With', 'three', 'words']`\n",
    "2. `['With three words']`\n",
    "3. `['With', 'three words']`\n",
    "4. `['w', 'i', 't', 'h']`\n",
    "5. `['With the', 'ee words']`"
   ]
  },
  {
   "cell_type": "code",
   "execution_count": null,
   "id": "0ee395a1-3b23-468f-a1f0-dbb1bb13e2f7",
   "metadata": {},
   "outputs": [],
   "source": [
    "questions[18].show()"
   ]
  },
  {
   "cell_type": "markdown",
   "id": "aa314805-089c-4791-967d-7414155d5696",
   "metadata": {},
   "source": [
    "<hr>\n",
    "\n",
    "### Question 19\n",
    "\n",
    "What would the following Python code print out?\n",
    "\n",
    "```python\n",
    "abc = \"With three words\"\n",
    "stuff = abc.split()\n",
    "print(len(stuff))\n",
    "```\n",
    "\n",
    "1. `3`\n",
    "2. `2`\n",
    "3. `14`\n",
    "4. `1`\n",
    "5. `16`"
   ]
  },
  {
   "cell_type": "code",
   "execution_count": null,
   "id": "65531cd9-7560-4d6a-a657-dc19ac83355c",
   "metadata": {},
   "outputs": [],
   "source": [
    "questions[19].show()"
   ]
  },
  {
   "cell_type": "markdown",
   "id": "fa1f9a15-7b71-4af8-93b6-cc987a3c6d1b",
   "metadata": {},
   "source": [
    "<hr>\n",
    "\n",
    "### Question 20\n",
    "\n",
    "Which of the following is **not** a good synonym for \"class\" in Python?\n",
    "\n",
    "1. Direction\n",
    "2. Blueprint\n",
    "3. Template\n",
    "4. Pattern"
   ]
  },
  {
   "cell_type": "code",
   "execution_count": null,
   "id": "e6932ce1-26a3-4db7-9d2a-aa0f7385f9b1",
   "metadata": {},
   "outputs": [],
   "source": [
    "questions[20].show()"
   ]
  },
  {
   "cell_type": "markdown",
   "id": "d27012a2-2b68-44f3-b3bc-ed95b23c6c35",
   "metadata": {},
   "source": [
    "<hr>\n",
    "\n",
    "### Question 21\n",
    "\n",
    "What is `self` typically used in a Python method within a class?\n",
    "\n",
    "1. The number of parameters to the method\n",
    "2. To refer to the instance in which the method is being called\n",
    "3. To set the residual value in an expression where the method is used\n",
    "4. To terminate a loop"
   ]
  },
  {
   "cell_type": "code",
   "execution_count": null,
   "id": "cb763e78-cd5d-4dd2-822f-732e273e9c14",
   "metadata": {},
   "outputs": [],
   "source": [
    "questions[21].show()"
   ]
  },
  {
   "cell_type": "markdown",
   "id": "49b29855-dea8-4f1c-a43c-ccc902488f00",
   "metadata": {},
   "source": [
    "<hr>\n",
    "\n",
    "### Question 22\n",
    "\n",
    "How is a Python socket different than a Python file handle?\n",
    "\n",
    "1. A file is seekable, while a socket is not\n",
    "2. Opening a socket will never fail, while opening a file can fail\n",
    "3. The socket does not read all of the data when it is opened"
   ]
  },
  {
   "cell_type": "code",
   "execution_count": null,
   "id": "5c76ffa9-18bb-459a-a863-6949a4813acc",
   "metadata": {},
   "outputs": [],
   "source": [
    "questions[22].show()"
   ]
  },
  {
   "cell_type": "markdown",
   "id": "af50a240-7b2b-4227-9d77-93c38d395923",
   "metadata": {},
   "source": [
    "<hr>\n",
    "\n",
    "### Question 23\n",
    "\n",
    "In the following XML, what is `type`?\n",
    "\n",
    "```xml\n",
    "<person>\n",
    "    <name>Chuck</name>\n",
    "    <phone type=\"intl\">\n",
    "        +1 734 303 4456\n",
    "    </phone>\n",
    "    <email hide=\"yes\"/>\n",
    "</person>\n",
    "```\n",
    "\n",
    "1. Complex element\n",
    "2. Simple element\n",
    "3. Value\n",
    "4. Tag\n",
    "5. Attribute"
   ]
  },
  {
   "cell_type": "code",
   "execution_count": null,
   "id": "a20267d3-7565-4ce7-a473-6c10e70e5b79",
   "metadata": {},
   "outputs": [],
   "source": [
    "questions[23].show()"
   ]
  },
  {
   "cell_type": "markdown",
   "id": "d8e17c85-2a87-4a27-9e7b-1d91c4b0a807",
   "metadata": {},
   "source": [
    "<hr>\n",
    "\n",
    "### Question 24\n",
    "\n",
    "Which programming language serves as the basis for the JSON syntax?\n",
    "\n",
    "1. Python\n",
    "2. PHP\n",
    "3. JavaScript\n",
    "4. Java\n",
    "5. Scala"
   ]
  },
  {
   "cell_type": "code",
   "execution_count": null,
   "id": "4007ee15-f3d5-46ba-a8c7-9a7c55dc8f87",
   "metadata": {},
   "outputs": [],
   "source": [
    "questions[24].show()"
   ]
  },
  {
   "cell_type": "markdown",
   "id": "offshore-cleaners",
   "metadata": {},
   "source": [
    "<hr>\n",
    "\n",
    "### Submit"
   ]
  },
  {
   "cell_type": "code",
   "execution_count": null,
   "id": "formal-mortality",
   "metadata": {},
   "outputs": [],
   "source": [
    "submitter.submit(questions)"
   ]
  },
  {
   "cell_type": "code",
   "execution_count": null,
   "id": "surprising-chest",
   "metadata": {},
   "outputs": [],
   "source": []
  }
 ],
 "metadata": {
  "kernelspec": {
   "display_name": "Python 3",
   "language": "python",
   "name": "python3"
  },
  "language_info": {
   "codemirror_mode": {
    "name": "ipython",
    "version": 3
   },
   "file_extension": ".py",
   "mimetype": "text/x-python",
   "name": "python",
   "nbconvert_exporter": "python",
   "pygments_lexer": "ipython3",
   "version": "3.8.5"
  }
 },
 "nbformat": 4,
 "nbformat_minor": 5
}
