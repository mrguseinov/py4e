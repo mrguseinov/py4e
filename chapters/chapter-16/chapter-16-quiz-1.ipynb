{
 "cells": [
  {
   "cell_type": "markdown",
   "id": "brutal-wellington",
   "metadata": {},
   "source": [
    "**DO NOT EDIT THE CODE IN THIS FILE**"
   ]
  },
  {
   "cell_type": "code",
   "execution_count": null,
   "id": "medieval-trustee",
   "metadata": {},
   "outputs": [],
   "source": [
    "%reset -f\n",
    "\n",
    "from sys import path\n",
    "path.append(\"../../\")\n",
    "\n",
    "from helpers.submitters import QuizSubmitter\n",
    "from helpers.widgets import MyRadioButtons\n",
    "\n",
    "questions = [MyRadioButtons(5) for _ in range(10)]\n",
    "questions[5] = MyRadioButtons(4)\n",
    "questions[6] = MyRadioButtons(4)\n",
    "\n",
    "submitter = QuizSubmitter(\"16.1\")"
   ]
  },
  {
   "cell_type": "markdown",
   "id": "ultimate-worth",
   "metadata": {},
   "source": [
    "<hr>\n",
    "\n",
    "### Question 0\n",
    "\n",
    "What is the most common Unicode encoding when moving data between systems?\n",
    "\n",
    "1. UTF-8\n",
    "2. UTF-64\n",
    "3. UTF-32\n",
    "4. UTF-16\n",
    "5. UTF-128"
   ]
  },
  {
   "cell_type": "code",
   "execution_count": null,
   "id": "original-teacher",
   "metadata": {},
   "outputs": [],
   "source": [
    "questions[0].show()"
   ]
  },
  {
   "cell_type": "markdown",
   "id": "representative-framework",
   "metadata": {},
   "source": [
    "<hr>\n",
    "\n",
    "### Question 1\n",
    "\n",
    "What is the decimal (Base-10) numeric value for the upper case letter `G` in the ASCII character set?\n",
    "\n",
    "1. `7`\n",
    "2. `2048`\n",
    "3. `1771`\n",
    "4. `17`\n",
    "5. `71`"
   ]
  },
  {
   "cell_type": "code",
   "execution_count": null,
   "id": "liable-table",
   "metadata": {},
   "outputs": [],
   "source": [
    "questions[1].show()"
   ]
  },
  {
   "cell_type": "markdown",
   "id": "mature-ceiling",
   "metadata": {},
   "source": [
    "<hr>\n",
    "\n",
    "### Question 2\n",
    "\n",
    "What word does the following sequence of numbers represent in ASCII?\n",
    "\n",
    "```\n",
    "108, 105, 115, 116\n",
    "```\n",
    "\n",
    "1. lost\n",
    "2. fuss\n",
    "3. list\n",
    "4. open\n",
    "5. http"
   ]
  },
  {
   "cell_type": "code",
   "execution_count": null,
   "id": "continuous-observation",
   "metadata": {},
   "outputs": [],
   "source": [
    "questions[2].show()"
   ]
  },
  {
   "cell_type": "markdown",
   "id": "selected-magnitude",
   "metadata": {},
   "source": [
    "<hr>\n",
    "\n",
    "### Question 3\n",
    "\n",
    "How are strings stored internally in Python 3?\n",
    "\n",
    "1. Latin\n",
    "2. UTF-16\n",
    "3. ASCII (American Standard Code for Information Interchange)\n",
    "4. EBCDIC (Extended Binary Coded Decimal Interchange Code)\n",
    "5. Unicode"
   ]
  },
  {
   "cell_type": "code",
   "execution_count": null,
   "id": "incident-complaint",
   "metadata": {},
   "outputs": [],
   "source": [
    "questions[3].show()"
   ]
  },
  {
   "cell_type": "markdown",
   "id": "persistent-racing",
   "metadata": {},
   "source": [
    "<hr>\n",
    "\n",
    "### Question 4\n",
    "\n",
    "When reading data across the network (i.e., from a URL) in Python 3, what method must be used to convert it to the internal format used by strings?\n",
    "\n",
    "1. `encode`\n",
    "2. `more`\n",
    "3. `decode`\n",
    "4. `msub`\n",
    "5. `convert`"
   ]
  },
  {
   "cell_type": "code",
   "execution_count": null,
   "id": "designing-clothing",
   "metadata": {},
   "outputs": [],
   "source": [
    "questions[4].show()"
   ]
  },
  {
   "cell_type": "markdown",
   "id": "widespread-basis",
   "metadata": {},
   "source": [
    "<hr>\n",
    "\n",
    "### Question 5\n",
    "\n",
    "Which of the following lines will never print out regardless of the value of `x`?\n",
    "\n",
    "```python\n",
    "if x < 2:\n",
    "    print(\"Below 2\")\n",
    "elif x < 0:\n",
    "    print(\"Negative\")\n",
    "else:\n",
    "    print(\"Something else\")\n",
    "```\n",
    "\n",
    "1. `Something else`\n",
    "2. `Below 2`\n",
    "3. `Negative`\n",
    "4. All the lines will print out."
   ]
  },
  {
   "cell_type": "code",
   "execution_count": null,
   "id": "contained-chamber",
   "metadata": {},
   "outputs": [],
   "source": [
    "questions[5].show()"
   ]
  },
  {
   "cell_type": "markdown",
   "id": "hidden-happiness",
   "metadata": {},
   "source": [
    "<hr>\n",
    "\n",
    "### Question 6\n",
    "\n",
    "Which of the following lines will never print out regardless of the value of `x`?\n",
    "\n",
    "```python\n",
    "if x < 2:\n",
    "    print(\"Below 2\")\n",
    "elif x < 20:\n",
    "    print(\"Below 20\")\n",
    "elif x < 10:\n",
    "    print(\"Below 10\")\n",
    "else:\n",
    "    print(\"Something else\")\n",
    "```\n",
    "\n",
    "1. `Below 10`\n",
    "2. `Below 20`\n",
    "3. `Something else`\n",
    "4. `Below 2`"
   ]
  },
  {
   "cell_type": "code",
   "execution_count": null,
   "id": "prepared-green",
   "metadata": {},
   "outputs": [],
   "source": [
    "questions[6].show()"
   ]
  },
  {
   "cell_type": "markdown",
   "id": "racial-shame",
   "metadata": {},
   "source": [
    "<hr>\n",
    "\n",
    "### Question 7\n",
    "\n",
    "What will the following code print out?\n",
    "\n",
    "```python\n",
    "zap = \"hello there bob\"\n",
    "print(zap[4])\n",
    "```\n",
    "\n",
    "1. `o`\n",
    "2. `l`\n",
    "3. `zap`\n",
    "4. `hello`\n",
    "5. It will result in an error."
   ]
  },
  {
   "cell_type": "code",
   "execution_count": null,
   "id": "serious-alabama",
   "metadata": {},
   "outputs": [],
   "source": [
    "questions[7].show()"
   ]
  },
  {
   "cell_type": "markdown",
   "id": "sitting-tamil",
   "metadata": {},
   "source": [
    "<hr>\n",
    "\n",
    "### Question 8\n",
    "\n",
    "Which of the following lines contains a syntax error?\n",
    "\n",
    "```python\n",
    "(1)  x = 12\n",
    "(2)  if x < 5:\n",
    "(3)  print(\"smaller\")\n",
    "(4)  else:\n",
    "(5)      print(\"bigger\")\n",
    "(6)  print(\"all done\")\n",
    "```\n",
    "\n",
    "1. `3`\n",
    "2. `2`\n",
    "3. `6`\n",
    "4. `4`\n",
    "5. `5`"
   ]
  },
  {
   "cell_type": "code",
   "execution_count": null,
   "id": "republican-abuse",
   "metadata": {},
   "outputs": [],
   "source": [
    "questions[8].show()"
   ]
  },
  {
   "cell_type": "markdown",
   "id": "married-python",
   "metadata": {},
   "source": [
    "<hr>\n",
    "\n",
    "### Question 9\n",
    "\n",
    "What will the following code print out?\n",
    "\n",
    "```python\n",
    "def fred():\n",
    "    print(\"Zap\", end=\" \")\n",
    "\n",
    "def jane():\n",
    "    print(\"ABC\", end=\" \")\n",
    "\n",
    "jane()\n",
    "fred()\n",
    "jane()\n",
    "```\n",
    "\n",
    "1. `ABC Zap ABC`\n",
    "2. `Zap Zap Zap`\n",
    "3. `Zap ABC jane fred jane`\n",
    "4. `ABC Zap jane`\n",
    "5. `Zap ABC Zap`"
   ]
  },
  {
   "cell_type": "code",
   "execution_count": null,
   "id": "alert-archive",
   "metadata": {},
   "outputs": [],
   "source": [
    "questions[9].show()"
   ]
  },
  {
   "cell_type": "markdown",
   "id": "offshore-cleaners",
   "metadata": {},
   "source": [
    "<hr>\n",
    "\n",
    "### Submit"
   ]
  },
  {
   "cell_type": "code",
   "execution_count": null,
   "id": "formal-mortality",
   "metadata": {},
   "outputs": [],
   "source": [
    "submitter.submit(questions)"
   ]
  },
  {
   "cell_type": "code",
   "execution_count": null,
   "id": "surprising-chest",
   "metadata": {},
   "outputs": [],
   "source": []
  }
 ],
 "metadata": {
  "kernelspec": {
   "display_name": "Python 3",
   "language": "python",
   "name": "python3"
  },
  "language_info": {
   "codemirror_mode": {
    "name": "ipython",
    "version": 3
   },
   "file_extension": ".py",
   "mimetype": "text/x-python",
   "name": "python",
   "nbconvert_exporter": "python",
   "pygments_lexer": "ipython3",
   "version": "3.8.10"
  }
 },
 "nbformat": 4,
 "nbformat_minor": 5
}
