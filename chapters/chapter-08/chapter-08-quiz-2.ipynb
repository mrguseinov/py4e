{
 "cells": [
  {
   "cell_type": "markdown",
   "id": "indonesian-telling",
   "metadata": {},
   "source": [
    "**DO NOT EDIT THE CODE IN THIS FILE**"
   ]
  },
  {
   "cell_type": "code",
   "execution_count": null,
   "id": "western-water",
   "metadata": {},
   "outputs": [],
   "source": [
    "%reset -f\n",
    "\n",
    "from sys import path\n",
    "path.append(\"../../\")\n",
    "\n",
    "from helpers.submitters import QuizSubmitter\n",
    "from helpers.widgets import MyRadioButtons\n",
    "\n",
    "questions = [MyRadioButtons(2) for _ in range(10)]\n",
    "\n",
    "submitter = QuizSubmitter(\"08.2\")"
   ]
  },
  {
   "cell_type": "markdown",
   "id": "rural-seattle",
   "metadata": {},
   "source": [
    "<hr>\n",
    "\n",
    "### Question 0\n",
    "\n",
    "Lists are heterogeneous, meaning that the items in the list do **not** have to be of the same type.\n",
    "\n",
    "1. True.\n",
    "2. False."
   ]
  },
  {
   "cell_type": "code",
   "execution_count": null,
   "id": "pacific-lease",
   "metadata": {},
   "outputs": [],
   "source": [
    "questions[0].show()"
   ]
  },
  {
   "cell_type": "markdown",
   "id": "intended-gender",
   "metadata": {},
   "source": [
    "<hr>\n",
    "\n",
    "### Question 1\n",
    "\n",
    "Lists are immutable — you can**not** add, change, or remove items.\n",
    "\n",
    "1. True.\n",
    "2. False."
   ]
  },
  {
   "cell_type": "code",
   "execution_count": null,
   "id": "active-vampire",
   "metadata": {},
   "outputs": [],
   "source": [
    "questions[1].show()"
   ]
  },
  {
   "cell_type": "markdown",
   "id": "collected-celebration",
   "metadata": {},
   "source": [
    "<hr>\n",
    "\n",
    "### Question 2\n",
    "\n",
    "A list is a sequence of values.\n",
    "\n",
    "1. True.\n",
    "2. False."
   ]
  },
  {
   "cell_type": "code",
   "execution_count": null,
   "id": "interpreted-transcript",
   "metadata": {},
   "outputs": [],
   "source": [
    "questions[2].show()"
   ]
  },
  {
   "cell_type": "markdown",
   "id": "asian-catch",
   "metadata": {},
   "source": [
    "<hr>\n",
    "\n",
    "### Question 3\n",
    "\n",
    "Lists can store any data type.\n",
    "\n",
    "1. True.\n",
    "2. False."
   ]
  },
  {
   "cell_type": "code",
   "execution_count": null,
   "id": "inappropriate-citation",
   "metadata": {},
   "outputs": [],
   "source": [
    "questions[3].show()"
   ]
  },
  {
   "cell_type": "markdown",
   "id": "joint-junior",
   "metadata": {},
   "source": [
    "<hr>\n",
    "\n",
    "### Question 4\n",
    "\n",
    "Any integer expression can be used as the list index.\n",
    "\n",
    "1. True.\n",
    "2. False."
   ]
  },
  {
   "cell_type": "code",
   "execution_count": null,
   "id": "altered-anatomy",
   "metadata": {},
   "outputs": [],
   "source": [
    "questions[4].show()"
   ]
  },
  {
   "cell_type": "markdown",
   "id": "posted-template",
   "metadata": {},
   "source": [
    "<hr>\n",
    "\n",
    "### Question 5\n",
    "\n",
    "You can**not** use the `in` operator to check if an item is present in the list or not.\n",
    "\n",
    "1. True.\n",
    "2. False."
   ]
  },
  {
   "cell_type": "code",
   "execution_count": null,
   "id": "random-proceeding",
   "metadata": {},
   "outputs": [],
   "source": [
    "questions[5].show()"
   ]
  },
  {
   "cell_type": "markdown",
   "id": "recent-interference",
   "metadata": {},
   "source": [
    "<hr>\n",
    "\n",
    "### Question 6\n",
    "\n",
    "If you try to access an element that does not exist in the list, you'll get an error.\n",
    "\n",
    "1. True.\n",
    "2. False."
   ]
  },
  {
   "cell_type": "code",
   "execution_count": null,
   "id": "decimal-zambia",
   "metadata": {},
   "outputs": [],
   "source": [
    "questions[6].show()"
   ]
  },
  {
   "cell_type": "markdown",
   "id": "assigned-standard",
   "metadata": {},
   "source": [
    "<hr>\n",
    "\n",
    "### Question 7\n",
    "\n",
    "Lists are unordered, meaning that the order in which you put the items is **not** kept.\n",
    "\n",
    "1. True.\n",
    "2. False."
   ]
  },
  {
   "cell_type": "code",
   "execution_count": null,
   "id": "mexican-turner",
   "metadata": {},
   "outputs": [],
   "source": [
    "questions[7].show()"
   ]
  },
  {
   "cell_type": "markdown",
   "id": "healthy-medium",
   "metadata": {},
   "source": [
    "<hr>\n",
    "\n",
    "### Question 8\n",
    "\n",
    "If an index has a negative value, it counts backward from the end of the list.\n",
    "\n",
    "1. True.\n",
    "2. False."
   ]
  },
  {
   "cell_type": "code",
   "execution_count": null,
   "id": "available-orientation",
   "metadata": {},
   "outputs": [],
   "source": [
    "questions[8].show()"
   ]
  },
  {
   "cell_type": "markdown",
   "id": "above-attitude",
   "metadata": {},
   "source": [
    "<hr>\n",
    "\n",
    "### Question 9\n",
    "\n",
    "Lists can**not** have items with the same value.\n",
    "\n",
    "1. True.\n",
    "2. False."
   ]
  },
  {
   "cell_type": "code",
   "execution_count": null,
   "id": "collect-functionality",
   "metadata": {},
   "outputs": [],
   "source": [
    "questions[9].show()"
   ]
  },
  {
   "cell_type": "markdown",
   "id": "given-building",
   "metadata": {},
   "source": [
    "<hr>\n",
    "\n",
    "### Submit"
   ]
  },
  {
   "cell_type": "code",
   "execution_count": null,
   "id": "under-morris",
   "metadata": {},
   "outputs": [],
   "source": [
    "submitter.submit(questions)"
   ]
  },
  {
   "cell_type": "code",
   "execution_count": null,
   "id": "caring-potential",
   "metadata": {},
   "outputs": [],
   "source": []
  }
 ],
 "metadata": {
  "kernelspec": {
   "display_name": "Python 3 (ipykernel)",
   "language": "python",
   "name": "python3"
  },
  "language_info": {
   "codemirror_mode": {
    "name": "ipython",
    "version": 3
   },
   "file_extension": ".py",
   "mimetype": "text/x-python",
   "name": "python",
   "nbconvert_exporter": "python",
   "pygments_lexer": "ipython3",
   "version": "3.12.2"
  }
 },
 "nbformat": 4,
 "nbformat_minor": 5
}
