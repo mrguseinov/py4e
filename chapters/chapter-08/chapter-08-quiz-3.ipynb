{
 "cells": [
  {
   "cell_type": "markdown",
   "id": "indonesian-telling",
   "metadata": {},
   "source": [
    "**DO NOT EDIT THE CODE IN THIS FILE**"
   ]
  },
  {
   "cell_type": "code",
   "execution_count": null,
   "id": "western-water",
   "metadata": {},
   "outputs": [],
   "source": [
    "%reset -f\n",
    "\n",
    "from sys import path\n",
    "path.append(\"../../\")\n",
    "\n",
    "from helpers.submitters import QuizSubmitter\n",
    "from helpers.widgets import MyCheckBoxes, MyRadioButtons\n",
    "\n",
    "questions = [MyRadioButtons(4) for _ in range(10)]\n",
    "questions[0] = MyRadioButtons(5)\n",
    "questions[3] = MyRadioButtons(5)\n",
    "questions[4] = MyCheckBoxes(4)\n",
    "questions[5] = MyRadioButtons(8)\n",
    "questions[7] = MyRadioButtons(2)\n",
    "questions[9] = MyRadioButtons(8)\n",
    "\n",
    "submitter = QuizSubmitter(\"08.3\")"
   ]
  },
  {
   "cell_type": "markdown",
   "id": "rural-seattle",
   "metadata": {},
   "source": [
    "<hr>\n",
    "\n",
    "### Question 0\n",
    "\n",
    "What will the following code print out?\n",
    "\n",
    "```python\n",
    "numbers = [1, 2, 3]\n",
    "numbers.append([4])\n",
    "print(numbers)\n",
    "```\n",
    "\n",
    "1. `[1, 2, 3, 4]`\n",
    "2. `[4]`\n",
    "3. `[1, 2, 3, [4]]`\n",
    "4. `[1, 2, 3]`\n",
    "5. It will result in an error."
   ]
  },
  {
   "cell_type": "code",
   "execution_count": null,
   "id": "pacific-lease",
   "metadata": {},
   "outputs": [],
   "source": [
    "questions[0].show()"
   ]
  },
  {
   "cell_type": "markdown",
   "id": "intended-gender",
   "metadata": {},
   "source": [
    "<hr>\n",
    "\n",
    "### Question 1\n",
    "\n",
    "What will the following code print out?\n",
    "\n",
    "```python\n",
    "print([1, 2] * 3)\n",
    "```\n",
    "\n",
    "1. `[1, 2] * 3`\n",
    "2. `[1, 2, 1, 2, 1, 2]`\n",
    "3. `[[1, 2], [1, 2], [1, 2]]`\n",
    "4. It will result in an error."
   ]
  },
  {
   "cell_type": "code",
   "execution_count": null,
   "id": "active-vampire",
   "metadata": {},
   "outputs": [],
   "source": [
    "questions[1].show()"
   ]
  },
  {
   "cell_type": "markdown",
   "id": "collected-celebration",
   "metadata": {},
   "source": [
    "<hr>\n",
    "\n",
    "### Question 2\n",
    "\n",
    "What will the following code print out?\n",
    "\n",
    "```python\n",
    "values = [[0]] * 5\n",
    "values[1][0] = 9\n",
    "print(values)\n",
    "```\n",
    "\n",
    "1. `[[9], [9], [9], [9], [9]]`\n",
    "2. `[[0], [9], [0], [0], [0]]`\n",
    "3. `[0, 9, 0, 0, 0]`\n",
    "4. It will result in an error."
   ]
  },
  {
   "cell_type": "code",
   "execution_count": null,
   "id": "interpreted-transcript",
   "metadata": {},
   "outputs": [],
   "source": [
    "questions[2].show()"
   ]
  },
  {
   "cell_type": "markdown",
   "id": "asian-catch",
   "metadata": {},
   "source": [
    "<hr>\n",
    "\n",
    "### Question 3\n",
    "\n",
    "What will the following code print out?\n",
    "\n",
    "```python\n",
    "def bar(item, values=[]):\n",
    "    values.append(item)\n",
    "    return values\n",
    "\n",
    "bar(12)\n",
    "print(bar(42))\n",
    "```\n",
    "\n",
    "1. `[]`\n",
    "2. `[12]`\n",
    "3. `[42]`\n",
    "4. `[12, 42]`\n",
    "5. It will result in an error."
   ]
  },
  {
   "cell_type": "code",
   "execution_count": null,
   "id": "inappropriate-citation",
   "metadata": {},
   "outputs": [],
   "source": [
    "questions[3].show()"
   ]
  },
  {
   "cell_type": "markdown",
   "id": "joint-junior",
   "metadata": {},
   "source": [
    "<hr>\n",
    "\n",
    "### Question 4\n",
    "\n",
    "Check all that apply.\n",
    "\n",
    "1. The `clear` method removes all items from the list.\n",
    "2. The `pop` method can remove an item from the list at the specified index and return its value.\n",
    "3. The `remove` method removes a given item from the list.\n",
    "4. You can remove items from the list using the `del` statement."
   ]
  },
  {
   "cell_type": "code",
   "execution_count": null,
   "id": "altered-anatomy",
   "metadata": {},
   "outputs": [],
   "source": [
    "questions[4].show()"
   ]
  },
  {
   "cell_type": "markdown",
   "id": "posted-template",
   "metadata": {},
   "source": [
    "<hr>\n",
    "\n",
    "### Question 5\n",
    "\n",
    "What will the following code print out?\n",
    "\n",
    "```python\n",
    "a = [1, 2, 3]\n",
    "b = [1, 2, 3]\n",
    "c = a\n",
    "\n",
    "print(a == b, a is b, a is c)\n",
    "```\n",
    "\n",
    "1. `False False False`\n",
    "2. `False False True`\n",
    "3. `False True False`\n",
    "4. `False True True`\n",
    "5. `True False False`\n",
    "6. `True False True`\n",
    "7. `True True False`\n",
    "8. `True True True`"
   ]
  },
  {
   "cell_type": "code",
   "execution_count": null,
   "id": "random-proceeding",
   "metadata": {},
   "outputs": [],
   "source": [
    "questions[5].show()"
   ]
  },
  {
   "cell_type": "markdown",
   "id": "recent-interference",
   "metadata": {},
   "source": [
    "<hr>\n",
    "\n",
    "### Question 6\n",
    "\n",
    "What will the following code print out?\n",
    "\n",
    "```python\n",
    "line = \"From stephen.marquard@uct.ac.za Sat Jan 5 09:14:16 2008\"\n",
    "print(line.split()[5].split(\":\")[0])\n",
    "```\n",
    "\n",
    "1. `0`\n",
    "2. `9`\n",
    "3. `09`\n",
    "4. It will result in an error."
   ]
  },
  {
   "cell_type": "code",
   "execution_count": null,
   "id": "decimal-zambia",
   "metadata": {},
   "outputs": [],
   "source": [
    "questions[6].show()"
   ]
  },
  {
   "cell_type": "markdown",
   "id": "assigned-standard",
   "metadata": {},
   "source": [
    "<hr>\n",
    "\n",
    "### Question 7\n",
    "\n",
    "What will the following code print out?\n",
    "\n",
    "```python\n",
    "import math\n",
    "import statistics\n",
    "\n",
    "values = [1, 2, 3]\n",
    "print(math.isclose(statistics.mean(values), sum(values) / len(values)))\n",
    "```\n",
    "\n",
    "1. `True`\n",
    "2. `False`"
   ]
  },
  {
   "cell_type": "code",
   "execution_count": null,
   "id": "mexican-turner",
   "metadata": {},
   "outputs": [],
   "source": [
    "questions[7].show()"
   ]
  },
  {
   "cell_type": "markdown",
   "id": "healthy-medium",
   "metadata": {},
   "source": [
    "<hr>\n",
    "\n",
    "### Question 8\n",
    "\n",
    "What will the following code print out?\n",
    "\n",
    "```python\n",
    "import math\n",
    "\n",
    "print(math.prod(1, 2, 3, 5))\n",
    "```\n",
    "\n",
    "1. `30`\n",
    "2. `11`\n",
    "3. `[1, 2, 3, 5]`\n",
    "4. It will result in an error."
   ]
  },
  {
   "cell_type": "code",
   "execution_count": null,
   "id": "available-orientation",
   "metadata": {},
   "outputs": [],
   "source": [
    "questions[8].show()"
   ]
  },
  {
   "cell_type": "markdown",
   "id": "above-attitude",
   "metadata": {},
   "source": [
    "<hr>\n",
    "\n",
    "### Question 9\n",
    "\n",
    "What will the following code print out?\n",
    "\n",
    "```python\n",
    "a = \"123\"\n",
    "b = \"123\"\n",
    "c = a\n",
    "\n",
    "print(a == b, a is b, a is c)\n",
    "```\n",
    "\n",
    "1. `False False False`\n",
    "2. `False False True`\n",
    "3. `False True False`\n",
    "4. `False True True`\n",
    "5. `True False False`\n",
    "6. `True False True`\n",
    "7. `True True False`\n",
    "8. `True True True`"
   ]
  },
  {
   "cell_type": "code",
   "execution_count": null,
   "id": "collect-functionality",
   "metadata": {},
   "outputs": [],
   "source": [
    "questions[9].show()"
   ]
  },
  {
   "cell_type": "markdown",
   "id": "given-building",
   "metadata": {},
   "source": [
    "<hr>\n",
    "\n",
    "### Submit"
   ]
  },
  {
   "cell_type": "code",
   "execution_count": null,
   "id": "under-morris",
   "metadata": {},
   "outputs": [],
   "source": [
    "submitter.submit(questions)"
   ]
  },
  {
   "cell_type": "code",
   "execution_count": null,
   "id": "caring-potential",
   "metadata": {},
   "outputs": [],
   "source": []
  }
 ],
 "metadata": {
  "kernelspec": {
   "display_name": "Python 3 (ipykernel)",
   "language": "python",
   "name": "python3"
  },
  "language_info": {
   "codemirror_mode": {
    "name": "ipython",
    "version": 3
   },
   "file_extension": ".py",
   "mimetype": "text/x-python",
   "name": "python",
   "nbconvert_exporter": "python",
   "pygments_lexer": "ipython3",
   "version": "3.12.2"
  }
 },
 "nbformat": 4,
 "nbformat_minor": 5
}
